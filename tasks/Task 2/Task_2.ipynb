{
 "cells": [
  {
   "cell_type": "markdown",
   "metadata": {},
   "source": [
    "# Задание 2.\n",
    "\n",
    "**NB. Все упражнения ниже нужно делать без использования циклов Python в явном (`while`, `for`) и неявном виде (list comprehension, `map`, `reduce` и пр)**\n",
    "\n",
    "Задания по манипуляциям с массивами чаще всего решаются в одно/два выражения. "
   ]
  },
  {
   "cell_type": "code",
   "execution_count": 5,
   "metadata": {
    "ExecuteTime": {
     "start_time": "2023-11-07T19:00:28.150919Z",
     "end_time": "2023-11-07T19:00:28.158573Z"
    }
   },
   "outputs": [
    {
     "data": {
      "text/plain": "array([[86, 42, 85, ..., 87, 58, 89],\n       [87, 95, 57, ..., 43, 74, 44],\n       [36, 94, 59, ..., 97, 59,  3],\n       ...,\n       [84, 57,  8, ..., 74, 76, 78],\n       [75, 64, 82, ..., 73, 53, 73],\n       [63, 99, 13, ..., 24, 24, 76]])"
     },
     "execution_count": 5,
     "metadata": {},
     "output_type": "execute_result"
    }
   ],
   "source": [
    "%matplotlib inline\n",
    "\n",
    "import numpy as np\n",
    "import scipy as sp\n",
    "import matplotlib.pyplot as plt\n",
    "import seaborn as sns\n",
    "sns.set_theme()\n",
    "\n",
    "A = np.random.randint(0, 100, size=(200, 50))\n",
    "A"
   ]
  },
  {
   "cell_type": "markdown",
   "metadata": {},
   "source": [
    "# Задание 2.1 (2 балла)\n",
    "\n",
    "Сгенерируйте новый массив, в котором столбцы массива `A` переставлены в случайном порядке"
   ]
  },
  {
   "cell_type": "code",
   "execution_count": 2,
   "metadata": {
    "ExecuteTime": {
     "start_time": "2023-11-07T18:47:13.606379Z",
     "end_time": "2023-11-07T18:47:13.610911Z"
    }
   },
   "outputs": [
    {
     "data": {
      "text/plain": "array([[80, 88, 76, ...,  4, 78, 21],\n       [53, 33,  7, ...,  1, 59, 32],\n       [73, 92,  7, ..., 65, 22, 29],\n       ...,\n       [46, 81, 62, ..., 91, 21, 57],\n       [77, 30, 23, ..., 62, 58, 97],\n       [68, 43, 93, ...,  9,  5, 35]])"
     },
     "execution_count": 2,
     "metadata": {},
     "output_type": "execute_result"
    }
   ],
   "source": [
    "B = A[:, np.random.permutation(A.shape[1])]\n",
    "B"
   ]
  },
  {
   "cell_type": "markdown",
   "metadata": {},
   "source": [
    "# Задание 2.2 (5 баллов)\n",
    "\n",
    "Сгенерируйте новый массив, который содержит только те строки массива `A`, в которых: \n",
    "- сумма элементов по четным столбцам (индексы $0, 2, \\ldots$) больше среднего значения (по всему массиву) суммы элементов по нечетным столбцам (индексы $1, 3, \\ldots$) "
   ]
  },
  {
   "cell_type": "code",
   "execution_count": 3,
   "metadata": {
    "ExecuteTime": {
     "start_time": "2023-11-07T18:47:15.438639Z",
     "end_time": "2023-11-07T18:47:15.454424Z"
    }
   },
   "outputs": [
    {
     "data": {
      "text/plain": "array([[68, 88, 19, ..., 94, 21, 31],\n       [69, 92, 88, ..., 77, 29, 73],\n       [ 6, 29, 79, ..., 21, 46, 69],\n       ...,\n       [41, 90, 54, ..., 23, 79, 66],\n       [69, 15, 52, ..., 73, 76, 99],\n       [78, 81, 53, ..., 73, 57, 66]])"
     },
     "execution_count": 3,
     "metadata": {},
     "output_type": "execute_result"
    }
   ],
   "source": [
    "С = A[np.sum(A[:, ::2], axis=1) > np.mean(np.sum(A[:, 1::2], axis=1))]\n",
    "С"
   ]
  },
  {
   "cell_type": "markdown",
   "metadata": {},
   "source": [
    "# Задача 2.3 (3 балла)\n",
    "\n",
    "Найдите индекс строки массива `A`, в которой разница между максимальным и минимальным элементом максимальна"
   ]
  },
  {
   "cell_type": "code",
   "execution_count": 4,
   "metadata": {
    "ExecuteTime": {
     "start_time": "2023-11-07T18:47:16.908169Z",
     "end_time": "2023-11-07T18:47:16.927964Z"
    }
   },
   "outputs": [
    {
     "data": {
      "text/plain": "1"
     },
     "execution_count": 4,
     "metadata": {},
     "output_type": "execute_result"
    }
   ],
   "source": [
    "ind = np.argmax(np.max(A, axis=1) - np.min(A, axis=1))\n",
    "ind"
   ]
  },
  {
   "cell_type": "markdown",
   "metadata": {},
   "source": [
    "# Задание 2.4 (7 баллов)\n",
    "\n",
    "Сгенерируйте массив той же размерности, что и `A`, но в котором каждый элемент заменен на его порядковый номер (начиная с 1) в отсортированном по возрастанию массиве из элементов `A`\n",
    "\n",
    "Если `A` выглядит так:\n",
    "$$\n",
    "\\begin{pmatrix}\n",
    "12 & 14\\\\\n",
    "1 & 2\n",
    "\\end{pmatrix}\n",
    "$$\n",
    "то результат должен быть\n",
    "$$\n",
    "\\begin{pmatrix}\n",
    "3 & 4\\\\\n",
    "1 & 2\n",
    "\\end{pmatrix}\n",
    "$$\n",
    "\n",
    "*Tip: рассмотрите возможность неоднократного применения [argsort()](https://numpy.org/doc/stable/reference/generated/numpy.ndarray.argsort.html)*"
   ]
  },
  {
   "cell_type": "code",
   "execution_count": 5,
   "metadata": {
    "ExecuteTime": {
     "start_time": "2023-11-07T18:47:21.305181Z",
     "end_time": "2023-11-07T18:47:21.323029Z"
    }
   },
   "outputs": [
    {
     "data": {
      "text/plain": "array([[6896, 8812, 2001, ..., 9403, 2190, 3180],\n       [7228, 3416, 8382, ..., 4024, 3313,  626],\n       [7001, 9190, 8824, ..., 7736, 2959, 7325],\n       ...,\n       [7863, 8193, 5312, ..., 7350, 5755, 6685],\n       [ 730, 3083, 2471, ..., 7487, 9711, 1120],\n       [1998, 4305, 2584, ..., 5715, 3558, 5450]])"
     },
     "execution_count": 5,
     "metadata": {},
     "output_type": "execute_result"
    }
   ],
   "source": [
    "# test = np.array([[12, 1], [2, 14]])\n",
    "# Получить порядок сортировки массива -> получить порядковые номера для элементов исходного массива -> восстановить форму матрицы -> добавить единицу\n",
    "np.argsort(np.argsort(A, axis=None)).reshape(A.shape)+1"
   ]
  },
  {
   "cell_type": "markdown",
   "metadata": {},
   "source": [
    "# Задание 2.5 (2 балла)\n",
    "\n",
    "Примените $\\min-\\max$ - нормализацию к строкам массива `A`. То есть нужно получить новый массивы, в каждой строке которого максимальный элементы равен $1$, минимальный - $0$. "
   ]
  },
  {
   "cell_type": "code",
   "execution_count": 13,
   "metadata": {
    "ExecuteTime": {
     "start_time": "2023-11-07T18:52:02.529496Z",
     "end_time": "2023-11-07T18:52:02.540648Z"
    }
   },
   "outputs": [
    {
     "name": "stdout",
     "output_type": "stream",
     "text": [
      "[96 99 95 96 97 95 93 97 98 99 92 98 97 95 96 99 98 98 98 98 97 96 95 99\n",
      " 96 94 96 99 98 98 98 98 99 99 98 98 97 99 98 96 96 96 99 99 94 97 98 97\n",
      " 99 97 92 97 95 95 98 99 91 97 98 97 98 96 99 99 99 96 96 95 95 95 92 98\n",
      " 96 96 99 98 94 98 97 99 97 98 97 89 99 98 98 99 98 94 92 98 94 99 96 97\n",
      " 96 96 98 98 96 98 96 94 92 90 95 98 96 98 98 96 94 97 96 92 99 99 93 98\n",
      " 99 99 97 89 97 97 96 97 97 98 94 96 94 97 99 96 96 92 94 99 96 99 98 97\n",
      " 93 94 98 97 96 97 91 95 96 93 97 95 97 96 95 98 93 96 98 98 93 99 97 97\n",
      " 97 96 98 98 92 98 98 94 96 97 99 89 93 97 92 99 97 97 99 98 95 98 99 96\n",
      " 95 95 99 94 99 96 95 91]\n"
     ]
    },
    {
     "data": {
      "text/plain": "array([[0.67708333, 0.88541667, 0.16666667, ..., 0.94791667, 0.1875    ,\n        0.29166667],\n       [0.72727273, 0.33333333, 0.83838384, ..., 0.4040404 , 0.32323232,\n        0.06060606],\n       [0.70526316, 0.94736842, 0.90526316, ..., 0.78947368, 0.28421053,\n        0.74736842],\n       ...,\n       [0.80208333, 0.83333333, 0.54166667, ..., 0.75      , 0.58333333,\n        0.67708333],\n       [0.04210526, 0.28421053, 0.22105263, ..., 0.74736842, 0.98947368,\n        0.07368421],\n       [0.18681319, 0.45054945, 0.25274725, ..., 0.59340659, 0.36263736,\n        0.57142857]])"
     },
     "execution_count": 13,
     "metadata": {},
     "output_type": "execute_result"
    }
   ],
   "source": [
    "# np.newaxis to reshape array to allow operations with rank ((n,m) - (n,1))/(n,1)\n",
    "(A - np.min(A, axis=1)[:,np.newaxis]) / (np.max(A, axis=1) - np.min(A, axis=1))[:, np.newaxis]\n",
    "# See Line 1 for demo"
   ]
  },
  {
   "cell_type": "markdown",
   "metadata": {},
   "source": [
    "# Задание 2.6 (2 балла)\n",
    "\n",
    "Сгенерируйте новый трехмерный массив, размерности $10 \\times 200 \\times 50$. Подмассивы по нулевой оси должны состоять из элементов `A`, умноженных на $1 - 10$ соответственно"
   ]
  },
  {
   "cell_type": "code",
   "execution_count": 82,
   "metadata": {
    "ExecuteTime": {
     "start_time": "2023-11-07T20:02:12.932483Z",
     "end_time": "2023-11-07T20:02:12.945239Z"
    }
   },
   "outputs": [
    {
     "data": {
      "text/plain": "array([[[ 86,  42,  85, ...,  87,  58,  89],\n        [ 87,  95,  57, ...,  43,  74,  44],\n        [ 36,  94,  59, ...,  97,  59,   3],\n        ...,\n        [ 84,  57,   8, ...,  74,  76,  78],\n        [ 75,  64,  82, ...,  73,  53,  73],\n        [ 63,  99,  13, ...,  24,  24,  76]],\n\n       [[172,  84, 170, ..., 174, 116, 178],\n        [174, 190, 114, ...,  86, 148,  88],\n        [ 72, 188, 118, ..., 194, 118,   6],\n        ...,\n        [168, 114,  16, ..., 148, 152, 156],\n        [150, 128, 164, ..., 146, 106, 146],\n        [126, 198,  26, ...,  48,  48, 152]],\n\n       [[258, 126, 255, ..., 261, 174, 267],\n        [261, 285, 171, ..., 129, 222, 132],\n        [108, 282, 177, ..., 291, 177,   9],\n        ...,\n        [252, 171,  24, ..., 222, 228, 234],\n        [225, 192, 246, ..., 219, 159, 219],\n        [189, 297,  39, ...,  72,  72, 228]],\n\n       ...,\n\n       [[688, 336, 680, ..., 696, 464, 712],\n        [696, 760, 456, ..., 344, 592, 352],\n        [288, 752, 472, ..., 776, 472,  24],\n        ...,\n        [672, 456,  64, ..., 592, 608, 624],\n        [600, 512, 656, ..., 584, 424, 584],\n        [504, 792, 104, ..., 192, 192, 608]],\n\n       [[774, 378, 765, ..., 783, 522, 801],\n        [783, 855, 513, ..., 387, 666, 396],\n        [324, 846, 531, ..., 873, 531,  27],\n        ...,\n        [756, 513,  72, ..., 666, 684, 702],\n        [675, 576, 738, ..., 657, 477, 657],\n        [567, 891, 117, ..., 216, 216, 684]],\n\n       [[860, 420, 850, ..., 870, 580, 890],\n        [870, 950, 570, ..., 430, 740, 440],\n        [360, 940, 590, ..., 970, 590,  30],\n        ...,\n        [840, 570,  80, ..., 740, 760, 780],\n        [750, 640, 820, ..., 730, 530, 730],\n        [630, 990, 130, ..., 240, 240, 760]]])"
     },
     "execution_count": 82,
     "metadata": {},
     "output_type": "execute_result"
    }
   ],
   "source": [
    "# tA = np.array([[2,3],[4,5]])\n",
    "# Lets use multiplication to solve this\n",
    "# We need to add new axis to allow multiplication with (10,1,1) array\n",
    "np.arange(1, 11).reshape(10, 1, 1) * A[None, :, :]"
   ]
  },
  {
   "cell_type": "markdown",
   "metadata": {},
   "source": [
    "# Задание 2.7 (2 балла)\n",
    "\n",
    "Создайте новый массив, такой же размерности, как и `A`, в котором сначала сгруппированы четные столбцы `A`, потом  нечетные. Используйте [np.concat()](https://numpy.org/doc/stable/reference/generated/numpy.concatenate.html)"
   ]
  },
  {
   "cell_type": "code",
   "execution_count": 20,
   "outputs": [
    {
     "data": {
      "text/plain": "array([[62, 85, 87, ..., 67, 98, 28],\n       [96, 30, 32, ..., 14, 44, 74],\n       [80,  4, 26, ..., 15, 67, 29],\n       ...,\n       [ 6, 58,  0, ..., 44, 78, 61],\n       [14, 90, 57, ..., 51, 60, 45],\n       [54, 73, 74, ..., 20, 41,  0]])"
     },
     "execution_count": 20,
     "metadata": {},
     "output_type": "execute_result"
    }
   ],
   "source": [
    "np.concatenate((A[:, ::2], A[:, 1::2]), axis=1)"
   ],
   "metadata": {
    "collapsed": false,
    "ExecuteTime": {
     "start_time": "2023-10-03T19:24:39.666420Z",
     "end_time": "2023-10-03T19:24:39.671449Z"
    }
   }
  },
  {
   "cell_type": "markdown",
   "metadata": {},
   "source": [
    "# Задание 2.8 (2 балла)\n",
    "\n",
    "Посчитайте количество строк массива `A`, в который все элементы больше 5. Используйте [np.all()](https://numpy.org/doc/stable/reference/generated/numpy.all.html) "
   ]
  },
  {
   "cell_type": "code",
   "execution_count": 17,
   "metadata": {
    "ExecuteTime": {
     "start_time": "2023-10-03T19:16:29.623969Z",
     "end_time": "2023-10-03T19:16:29.652592Z"
    }
   },
   "outputs": [
    {
     "data": {
      "text/plain": "11"
     },
     "execution_count": 17,
     "metadata": {},
     "output_type": "execute_result"
    }
   ],
   "source": [
    "np.sum(np.all(A > 5, axis=1))"
   ]
  },
  {
   "cell_type": "markdown",
   "metadata": {},
   "source": [
    "# Задание 2.9 (2 балла)\n",
    "\n",
    "Поделите массив `A` горизонтально на 10 частей и создайте новый массив размерности $20 \\times 50$, который является средним этих частей. Используйте [np.split()](https://numpy.org/doc/stable/reference/generated/numpy.split.html)"
   ]
  },
  {
   "cell_type": "code",
   "execution_count": 2,
   "metadata": {
    "ExecuteTime": {
     "start_time": "2023-10-03T19:29:08.275139Z",
     "end_time": "2023-10-03T19:29:08.309635Z"
    }
   },
   "outputs": [
    {
     "ename": "NameError",
     "evalue": "name 'np' is not defined",
     "output_type": "error",
     "traceback": [
      "\u001B[0;31m---------------------------------------------------------------------------\u001B[0m",
      "\u001B[0;31mNameError\u001B[0m                                 Traceback (most recent call last)",
      "Cell \u001B[0;32mIn[2], line 1\u001B[0m\n\u001B[0;32m----> 1\u001B[0m \u001B[43mnp\u001B[49m\u001B[38;5;241m.\u001B[39mmean(np\u001B[38;5;241m.\u001B[39msplit(A, \u001B[38;5;241m10\u001B[39m, axis\u001B[38;5;241m=\u001B[39m\u001B[38;5;241m0\u001B[39m), axis\u001B[38;5;241m=\u001B[39m\u001B[38;5;241m0\u001B[39m)\n",
      "\u001B[0;31mNameError\u001B[0m: name 'np' is not defined"
     ]
    }
   ],
   "source": [
    "np.mean(np.split(A, 10, axis=0), axis=0)"
   ]
  },
  {
   "cell_type": "markdown",
   "metadata": {},
   "source": [
    "# Задание 2.10 (4 балла)\n",
    "\n",
    "\"Разверните\" массив `A` в одномерный массив. Оставьте в нём только уникальные элементы в том же порядке, в котором они встречаются в массиве. Используйте [np.unique()](https://numpy.org/doc/stable/reference/generated/numpy.unique.html)"
   ]
  },
  {
   "cell_type": "code",
   "execution_count": 36,
   "metadata": {
    "ExecuteTime": {
     "start_time": "2023-10-03T19:45:34.185452Z",
     "end_time": "2023-10-03T19:45:34.210226Z"
    }
   },
   "outputs": [
    {
     "name": "stdout",
     "output_type": "stream",
     "text": [
      "[62 36 85 78 87 45 28 84 66 73 55 52 59 22 83 79 46 54 48 50 72 13 16  9\n",
      " 58 10 63  6 60 38 75 24 90 35 34 67 98 15 96  4 30 32 44  7 37 23 53 76\n",
      "  3 14  1 18  0 74 81 57 25 71  2 99 89 80 26 41 20  8 27  5 68 88 95 33\n",
      " 11 77 40 91 31 29 93 82 97 12 61 19 51 39 65 42 86 56 17 21 92 47 69 43\n",
      " 64 94 70 49]\n",
      "[62 36 85 78 87 45 28 85 84 66 73 55 52 59 22 83 79 46 54 48 50 72 13 16\n",
      "  9 13 59 58 10 63 46 58  6 60  9 38 52 75 66 24 90 87 35 16 34 67 85 98\n",
      " 15 28]\n"
     ]
    }
   ],
   "source": [
    "unique, inx = np.unique(A, return_index=True)\n",
    "print(unique[np.argsort(inx)])\n",
    "# print(A[0, :])"
   ]
  },
  {
   "cell_type": "markdown",
   "metadata": {},
   "source": [
    "# Задание 2.11 (3 балла)\n",
    "\n",
    "Создайте одномерный массив размерности $200$, в котором каждый элемент - евклидово расстояние между соответствующей строкой `A` и \"средней\" строкой `A`"
   ]
  },
  {
   "cell_type": "code",
   "execution_count": 37,
   "metadata": {
    "ExecuteTime": {
     "start_time": "2023-10-03T19:49:39.198701Z",
     "end_time": "2023-10-03T19:49:39.228398Z"
    }
   },
   "outputs": [
    {
     "data": {
      "text/plain": "array([181.7441737 , 217.07370793, 217.18615213, 216.60532005,\n       201.18708874, 209.52755111, 211.80480324, 202.48546781,\n       186.96241514, 226.02275256, 203.57633624, 216.94995892,\n       198.1332498 , 198.51245471, 186.91959414, 229.97535667,\n       221.90859532, 208.62189405, 200.15914837, 183.04935038,\n       223.72135498, 222.4746158 , 206.42777108, 214.6828933 ,\n       199.7822932 , 197.57908461, 208.16631494, 193.44121762,\n       206.67274778, 206.51751663, 185.75302063, 198.41057098,\n       223.52191095, 194.05778695, 204.03201875, 200.34439018,\n       221.44804058, 189.15746   , 224.93902435, 181.85932661,\n       198.72313573, 187.22079125, 184.12127708, 202.70136821,\n       216.32000526, 192.93746312, 210.13377804, 223.89659371,\n       198.08845164, 205.95721564, 209.75670353, 203.32160405,\n       205.93157765, 207.52933449, 216.18412216, 220.8452958 ,\n       194.54496826, 197.74376014, 202.5894239 , 218.3962332 ,\n       208.78731924, 196.36999433, 173.9319254 , 212.05502747,\n       188.2632324 , 199.8984359 , 224.53824769, 203.13292366,\n       214.87176333, 210.41239192, 201.78648288, 210.63329432,\n       156.76946346, 205.02693646, 207.16861412, 212.88065829,\n       204.43268984, 196.27746859, 197.89402385, 225.29790207,\n       199.33548273, 186.29072622, 205.72307764, 204.87328932,\n       190.24700963, 192.36632937, 195.97261205, 209.66963222,\n       207.89613915, 201.20766555, 199.0672868 , 199.73343404,\n       218.60428787, 197.07532741, 206.82203624, 208.97965134,\n       196.9970423 , 217.3236634 , 195.14503497, 205.01186472,\n       207.94127699, 204.33791786, 203.7729979 , 202.34649657,\n       225.93460265, 195.75365814, 202.02473778, 221.13505981,\n       230.66598075, 219.91997334, 200.35634423, 203.04921737,\n       205.5064103 , 197.67087462, 202.43982976, 186.22114454,\n       200.88542674, 172.34046151, 219.67936789, 205.92225396,\n       222.94305254, 192.31844601, 208.27374937, 205.51025443,\n       202.08880393, 201.69827633, 205.10408254, 226.35444479,\n       188.52046222, 203.40748431, 213.40530611, 203.75672915,\n       212.93061   , 224.219791  , 193.32217844, 194.45134269,\n       185.72480899, 202.61743428, 215.32251316, 201.63944226,\n       202.52284976, 219.14612631, 221.76130112, 201.25932196,\n       210.8447644 , 198.36565901, 194.30888985, 208.06259797,\n       209.26974142, 189.37997432, 195.45788466, 179.56320524,\n       203.84085625, 205.532077  , 193.6139062 , 188.746615  ,\n       227.13292292, 194.17882139, 216.60670506, 208.96168231,\n       194.97447185, 213.98227654, 189.86338424, 221.6733513 ,\n       211.48083761, 201.63768168, 213.74177101, 201.99842741,\n       195.28221802, 228.09887039, 214.12569831, 200.57072238,\n       201.32912029, 194.04111594, 205.75297003, 205.06058781,\n       217.28233862, 204.73444917, 214.60343584, 186.76108983,\n       206.76690904, 221.5725269 , 213.14409369, 186.33860221,\n       196.49545714, 222.34854323, 206.39858206, 215.7653695 ,\n       196.68562397, 201.75915016, 217.9542261 , 194.86753109,\n       204.71566788, 200.87539589, 197.39778285, 197.62834988,\n       238.43358546, 213.89353584, 197.47636485, 207.78203646])"
     },
     "execution_count": 37,
     "metadata": {},
     "output_type": "execute_result"
    }
   ],
   "source": [
    "np.linalg.norm(A - np.mean(A, axis=0), axis=1)"
   ]
  },
  {
   "cell_type": "markdown",
   "metadata": {},
   "source": [
    "# Задание 2.12 (2 балла)\n",
    "\n",
    "Создайте новый массив, который состоит из элементов `A`, измененных по следующим правилам:\n",
    "- если элемент меньше $50$, то он умножается на $2$\n",
    "- в противном случае он умножается на $3$\n",
    "\n",
    "Используйте [np.where()](https://numpy.org/doc/stable/reference/generated/numpy.where.html)"
   ]
  },
  {
   "cell_type": "code",
   "execution_count": 88,
   "metadata": {
    "ExecuteTime": {
     "start_time": "2023-10-02T22:52:36.568618Z",
     "end_time": "2023-10-02T22:52:36.579649Z"
    }
   },
   "outputs": [
    {
     "data": {
      "text/plain": "array([[210, 261, 150, ...,  82, 195, 153],\n       [297, 225,  20, ...,  70, 279, 252],\n       [ 62, 204, 228, ..., 228,  70,  40],\n       ...,\n       [210, 258, 255, ..., 204, 282, 186],\n       [ 28,  56,  36, ...,  24, 243,  50],\n       [ 90,  40, 270, ..., 180,  20, 186]])"
     },
     "execution_count": 88,
     "metadata": {},
     "output_type": "execute_result"
    }
   ],
   "source": [
    "np.where(A < 50, A * 2, A * 3)"
   ]
  },
  {
   "cell_type": "markdown",
   "metadata": {},
   "source": [
    "# Задание 2.13 (7 баллов)\n",
    "\n",
    "Разверните массив `A` в одномерный массив. Создайте три новых массива, подсчитав скользящие средние по окнам $3$, $5$, $10$. Найдите сумму этих массивов, выровнив из размерности нулями справа\n",
    "\n",
    "*Tip: реализуйте функцию, которая считает скользящее среднее. Используйте [np.cumsum()](https://numpy.org/doc/stable/reference/generated/numpy.cumsum.html) или [np.convolve()](https://numpy.org/doc/stable/reference/generated/numpy.convolve.html)*"
   ]
  },
  {
   "cell_type": "code",
   "execution_count": null,
   "metadata": {},
   "outputs": [],
   "source": []
  },
  {
   "cell_type": "markdown",
   "metadata": {},
   "source": [
    "# Задание 2.14 (8 баллов)\n",
    "\n",
    "Постройте график функции $$f(x) = (5  \\sin(2x) - \\cos^2(x) - 1 + |x^3| - x^2) / (x^2 + 1)$$  \n",
    "\n",
    "и производной от этой функции.  Найдите минимум с помощью `scipy` и обозначьте его на графике. На этой же оси постройте графики скользящего среднего этой функции с окном $1$, $2$, $5$."
   ]
  },
  {
   "cell_type": "code",
   "execution_count": 80,
   "outputs": [
    {
     "name": "stdout",
     "output_type": "stream",
     "text": [
      "Optimization terminated successfully.\n",
      "         Current function value: -4.882074\n",
      "         Iterations: 6\n",
      "         Function evaluations: 16\n",
      "         Gradient evaluations: 8\n"
     ]
    }
   ],
   "source": [
    "import sympy\n",
    "from sympy import Symbol, sin, cos, Abs, lambdify, Derivative, im, re\n",
    "\n",
    "sympy.init_printing()\n",
    "\n",
    "def func(x):\n",
    "    return (5 * np.sin(2 * x) - np.cos(x) ** 2 - 1 + np.abs(x ** 3) - x ** 2) / (x ** 2 + 1)\n",
    "\n",
    "x = np.linspace(-10, 10, 10000)\n",
    "sym_x = Symbol('x')\n",
    "sym_f = (5 * sin(2 * sym_x) - cos(sym_x) ** 2 - 1 + Abs(sym_x ** 3) - sym_x ** 2) / (sym_x ** 2 + 1)\n",
    "# Как тут лучше поступать с Derivative я не придумал ,поэтому просто заменил их нулями вручную, так как они все равно нулевые\n",
    "sym_df = sym_f.diff(sym_x).subs(Derivative(im(sym_x), sym_x), 0).subs(Derivative(re(sym_x), sym_x), 0)\n",
    "\n",
    "diff = lambdify(sym_x, sym_df, 'numpy')\n",
    "f_min = sp.optimize.fmin_bfgs(func, 0)"
   ],
   "metadata": {
    "collapsed": false,
    "ExecuteTime": {
     "start_time": "2023-10-04T12:36:59.833293Z",
     "end_time": "2023-10-04T12:36:59.874494Z"
    }
   }
  },
  {
   "cell_type": "code",
   "execution_count": 91,
   "outputs": [
    {
     "data": {
      "text/plain": "<matplotlib.legend.Legend at 0x7fda69512f40>"
     },
     "execution_count": 91,
     "metadata": {},
     "output_type": "execute_result"
    },
    {
     "data": {
      "text/plain": "<Figure size 640x480 with 1 Axes>",
      "image/png": "[encoded data removed]"
     },
     "metadata": {},
     "output_type": "display_data"
    }
   ],
   "source": [
    "plt.plot(x, func(x), label='f(x)')\n",
    "plt.plot(x, diff(x), label='f\\'(x)')\n",
    "plt.scatter(f_min, func(f_min), label='min', c='r')\n",
    "\n",
    "for window_size in (1,2,5):\n",
    "    # WTF - То что все SMA совпадают это норм вообще? Визуально тут сглаживать нечего, функция и так гладкая (так ведь?)\n",
    "    # TODO - think more\n",
    "    plt.plot(x[window_size-1:], np.mean(np.lib.stride_tricks.sliding_window_view(func(x), window_size), axis=1), label=f'SMA (window = {window_size})')\n",
    "\n",
    "plt.legend()"
   ],
   "metadata": {
    "collapsed": false,
    "ExecuteTime": {
     "start_time": "2023-10-04T12:40:16.151953Z",
     "end_time": "2023-10-04T12:40:16.514349Z"
    }
   }
  },
  {
   "cell_type": "markdown",
   "metadata": {},
   "source": [
    "# Задание 2.15 (10 баллов)\n",
    "\n",
    "Есть следующий алгоритм семплинирования, на вход функции подается вектор из целых положительных чисел и число семплов."
   ]
  },
  {
   "cell_type": "code",
   "execution_count": 48,
   "metadata": {
    "ExecuteTime": {
     "start_time": "2023-11-07T19:36:22.047958Z",
     "end_time": "2023-11-07T19:36:22.061465Z"
    }
   },
   "outputs": [
    {
     "data": {
      "text/plain": "[0, 0, 3, 0, 0]"
     },
     "execution_count": 48,
     "metadata": {},
     "output_type": "execute_result"
    }
   ],
   "source": [
    "from typing import List \n",
    "\n",
    "def sample(x: List[int], c: int) -> List[int]:\n",
    "    assert len(x) > 0\n",
    "    \n",
    "    s = np.sum(x)\n",
    "    res = []\n",
    "    for _ in range(c):\n",
    "        val = s * np.random.random()\n",
    "        cur, idx = 0, 0        \n",
    "        while cur + x[idx] <= val:\n",
    "            cur += x[idx]\n",
    "            idx += 1\n",
    "            \n",
    "        res.append(idx)\n",
    "    return res\n",
    "\n",
    "            \n",
    "sample([50, 3, 1, 7, 20], 5)   "
   ]
  },
  {
   "cell_type": "markdown",
   "metadata": {},
   "source": [
    "Реализуйте данный алгоритм более оптимальным способом на массивах `numpy`, без использования циклов. Проверьте корректность и идентичность алгоритмов семплирования с помощью статистических тестов."
   ]
  },
  {
   "cell_type": "code",
   "execution_count": 49,
   "metadata": {
    "ExecuteTime": {
     "start_time": "2023-11-07T19:36:23.944035Z",
     "end_time": "2023-11-07T19:36:23.946853Z"
    }
   },
   "outputs": [
    {
     "data": {
      "text/plain": "[3, 0, 0, 0, 0]"
     },
     "execution_count": 49,
     "metadata": {},
     "output_type": "execute_result"
    }
   ],
   "source": [
    "import numpy as np\n",
    "\n",
    "def npsample(x: np.ndarray, c: int) -> np.ndarray:\n",
    "    assert len(x) > 0\n",
    "\n",
    "    s = np.sum(x)\n",
    "    cum_sum = np.cumsum(x)\n",
    "    uniform_vals = s * np.random.random(c)\n",
    "    res = np.searchsorted(cum_sum, uniform_vals)\n",
    "    return res\n",
    "\n",
    "sample(np.array([50, 3, 1, 7, 20]), 5)"
   ]
  },
  {
   "cell_type": "code",
   "execution_count": 76,
   "outputs": [],
   "source": [
    "import scipy.stats as stats\n",
    "\n",
    "sample_size = 100\n",
    "data = np.random.randint(1, 100, size=sample_size)\n",
    "\n",
    "stat, p_value = stats.ttest_ind(sample(data, sample_size), npsample(data, sample_size), equal_var=False)\n",
    "assert p_value > 0.05"
   ],
   "metadata": {
    "collapsed": false,
    "ExecuteTime": {
     "start_time": "2023-11-07T19:51:26.693577Z",
     "end_time": "2023-11-07T19:51:26.700182Z"
    }
   }
  },
  {
   "cell_type": "markdown",
   "metadata": {},
   "source": [
    "# Задание 2.16 (5 баллов)\n",
    "\n",
    "Есть следующий алгоритм \"случайного блуждания\""
   ]
  },
  {
   "cell_type": "code",
   "execution_count": 93,
   "metadata": {
    "ExecuteTime": {
     "start_time": "2023-10-04T13:25:26.624404Z",
     "end_time": "2023-10-04T13:25:26.639039Z"
    }
   },
   "outputs": [
    {
     "data": {
      "text/plain": "1890",
      "image/png": "[encoded data removed]",
      "text/latex": "$\\displaystyle 1890$"
     },
     "execution_count": 93,
     "metadata": {},
     "output_type": "execute_result"
    }
   ],
   "source": [
    "import random \n",
    "\n",
    "def walk(n: int):\n",
    "    cur_position = 0\n",
    "    for i in range(n):\n",
    "        cur_position += random.choice([-3, -1, 0, 2, 3])\n",
    "\n",
    "    return cur_position\n",
    "\n",
    "walk(10_000)"
   ]
  },
  {
   "cell_type": "markdown",
   "metadata": {},
   "source": [
    "Реализуйте более эффективную версию с помощью `numpy`, сравните производительность (используя, например, magic `timeit`). Воспользовавшись [kdeplot()](https://seaborn.pydata.org/generated/seaborn.kdeplot.html) или аналогами, постройте график распределения значений `walk(10_000)` на каком-то разумном числе запусков. "
   ]
  },
  {
   "cell_type": "code",
   "execution_count": 101,
   "metadata": {
    "ExecuteTime": {
     "start_time": "2023-10-04T13:31:44.946626Z",
     "end_time": "2023-10-04T13:31:44.962720Z"
    }
   },
   "outputs": [],
   "source": [
    "def walk_upd(n: int):\n",
    "    return np.cumsum(np.random.choice([-3, -1, 0, 2, 3], size=n))[-1]"
   ]
  },
  {
   "cell_type": "code",
   "execution_count": 95,
   "outputs": [
    {
     "name": "stdout",
     "output_type": "stream",
     "text": [
      "3.25 ms ± 307 µs per loop (mean ± std. dev. of 7 runs, 100 loops each)\n",
      "124 µs ± 422 ns per loop (mean ± std. dev. of 7 runs, 10,000 loops each)\n"
     ]
    }
   ],
   "source": [
    "# Numpy вариант существенно быстрее\n",
    "%timeit walk(10_000)\n",
    "%timeit walk_upd(10_000)"
   ],
   "metadata": {
    "collapsed": false,
    "ExecuteTime": {
     "start_time": "2023-10-04T13:25:28.553071Z",
     "end_time": "2023-10-04T13:25:41.204392Z"
    }
   }
  },
  {
   "cell_type": "code",
   "execution_count": 105,
   "outputs": [
    {
     "data": {
      "text/plain": "<Figure size 640x480 with 1 Axes>",
      "image/png": "[encoded data removed]"
     },
     "metadata": {},
     "output_type": "display_data"
    }
   ],
   "source": [
    "samples = [walk(10_000) for _ in range(1000)]\n",
    "samples_upd = [walk_upd(10_000) for _ in range(1000)]\n",
    "\n",
    "sns.kdeplot(samples)\n",
    "sns.kdeplot(samples_upd)\n",
    "plt.title(\"Распределение значений\")\n",
    "plt.legend([\"walk\", \"walk_upd\"])\n",
    "plt.show()"
   ],
   "metadata": {
    "collapsed": false,
    "ExecuteTime": {
     "start_time": "2023-10-04T13:37:11.433249Z",
     "end_time": "2023-10-04T13:37:14.777347Z"
    }
   }
  },
  {
   "cell_type": "code",
   "execution_count": null,
   "outputs": [],
   "source": [],
   "metadata": {
    "collapsed": false
   }
  },
  {
   "cell_type": "markdown",
   "metadata": {},
   "source": [
    "# Задание 2.17 (5 баллов)\n",
    "\n",
    "Имеется функция, которая проделывает достаточно странные манипуляции с массивом `numpy`"
   ]
  },
  {
   "cell_type": "code",
   "execution_count": 42,
   "metadata": {
    "ExecuteTime": {
     "start_time": "2023-11-07T19:30:49.771081Z",
     "end_time": "2023-11-07T19:30:58.645101Z"
    }
   },
   "outputs": [
    {
     "data": {
      "text/plain": "1.1814190450125897"
     },
     "execution_count": 42,
     "metadata": {},
     "output_type": "execute_result"
    }
   ],
   "source": [
    "import numpy.typing as npt\n",
    "\n",
    "def strange_conv(a: npt.NDArray[np.float64]) -> np.float64:\n",
    "    x = a.shape[0]\n",
    "    y = a.shape[1]\n",
    "\n",
    "    t = 1.\n",
    "    for y in range(y - 5):\n",
    "        for x in range(x - 3):\n",
    "            c = 1.5 * a[y+1, x+2] - a[y+5, x+3] * a[y, x] + 0.2 * a[y+4, x]\n",
    "            t = 0.2 * t + 0.8 * c\n",
    "\n",
    "    return t\n",
    "\n",
    "\n",
    "a = np.random.random((10000, 10000))\n",
    "strange_conv(a)"
   ]
  },
  {
   "cell_type": "markdown",
   "metadata": {},
   "source": [
    "Оптимизируйте данную функцию с помощью (2 на выбор):\n",
    "- [Numba](https://numba.pydata.org)\n",
    "- `Cython` (+5 баллов)\n",
    "- [Taichi](https://github.com/taichi-dev/taichi) (+5 баллов)\n",
    "- `Pythran `[[1]](https://pythran.readthedocs.io/en/latest/), [[2]](https://serge-sans-paille.github.io/pythran-stories/pythran-tutorial.html) (+2 балла)\n",
    "\n",
    "Сравните производительность."
   ]
  },
  {
   "cell_type": "code",
   "execution_count": 43,
   "metadata": {
    "ExecuteTime": {
     "start_time": "2023-11-07T19:31:02.014287Z",
     "end_time": "2023-11-07T19:31:02.054257Z"
    }
   },
   "outputs": [],
   "source": [
    "import numba as nb\n",
    "import numpy as np\n",
    "import numpy.typing as npt\n",
    "\n",
    "@nb.njit()\n",
    "def strange_conv_numba(a: npt.NDArray[np.float64]) -> np.float64:\n",
    "    x = a.shape[0]\n",
    "    y = a.shape[1]\n",
    "\n",
    "    t = 1.\n",
    "    for y in range(y - 5):\n",
    "        for x in range(x - 3):\n",
    "            c = 1.5 * a[y+1, x+2] - a[y+5, x+3] * a[y, x] + 0.2 * a[y+4, x]\n",
    "            t = 0.2 * t + 0.8 * c\n",
    "\n",
    "    return t"
   ]
  },
  {
   "cell_type": "code",
   "execution_count": 44,
   "outputs": [
    {
     "name": "stdout",
     "output_type": "stream",
     "text": [
      "The cython extension is already loaded. To reload it, use:\n",
      "  %reload_ext cython\n"
     ]
    }
   ],
   "source": [
    "%load_ext cython"
   ],
   "metadata": {
    "collapsed": false,
    "ExecuteTime": {
     "start_time": "2023-11-07T19:31:02.977501Z",
     "end_time": "2023-11-07T19:31:02.981355Z"
    }
   }
  },
  {
   "cell_type": "code",
   "execution_count": 45,
   "outputs": [
    {
     "data": {
      "text/plain": "<IPython.core.display.HTML object>",
      "text/html": "<!DOCTYPE html>\n<!-- Generated by Cython 3.0.5 -->\n<html>\n<head>\n    <meta http-equiv=\"Content-Type\" content=\"text/html; charset=utf-8\" />\n    <title>Cython: _cython_magic_76c82c2ab29c3e01abd99bf93eddaa658389f87a.pyx</title>\n    <style type=\"text/css\">\n    \nbody.cython { font-family: courier; font-size: 12; }\n\n.cython.tag  {  }\n.cython.line { color: #000000; margin: 0em }\n.cython.code { font-size: 9; color: #444444; display: none; margin: 0px 0px 0px 8px; border-left: 8px none; }\n\n.cython.line .run { background-color: #B0FFB0; }\n.cython.line .mis { background-color: #FFB0B0; }\n.cython.code.run  { border-left: 8px solid #B0FFB0; }\n.cython.code.mis  { border-left: 8px solid #FFB0B0; }\n\n.cython.code .py_c_api  { color: red; }\n.cython.code .py_macro_api  { color: #FF7000; }\n.cython.code .pyx_c_api  { color: #FF3000; }\n.cython.code .pyx_macro_api  { color: #FF7000; }\n.cython.code .refnanny  { color: #FFA000; }\n.cython.code .trace  { color: #FFA000; }\n.cython.code .error_goto  { color: #FFA000; }\n\n.cython.code .coerce  { color: #008000; border: 1px dotted #008000 }\n.cython.code .py_attr { color: #FF0000; font-weight: bold; }\n.cython.code .c_attr  { color: #0000FF; }\n.cython.code .py_call { color: #FF0000; font-weight: bold; }\n.cython.code .c_call  { color: #0000FF; }\n\n.cython.score-0 {background-color: #FFFFff;}\n.cython.score-1 {background-color: #FFFFe7;}\n.cython.score-2 {background-color: #FFFFd4;}\n.cython.score-3 {background-color: #FFFFc4;}\n.cython.score-4 {background-color: #FFFFb6;}\n.cython.score-5 {background-color: #FFFFaa;}\n.cython.score-6 {background-color: #FFFF9f;}\n.cython.score-7 {background-color: #FFFF96;}\n.cython.score-8 {background-color: #FFFF8d;}\n.cython.score-9 {background-color: #FFFF86;}\n.cython.score-10 {background-color: #FFFF7f;}\n.cython.score-11 {background-color: #FFFF79;}\n.cython.score-12 {background-color: #FFFF73;}\n.cython.score-13 {background-color: #FFFF6e;}\n.cython.score-14 {background-color: #FFFF6a;}\n.cython.score-15 {background-color: #FFFF66;}\n.cython.score-16 {background-color: #FFFF62;}\n.cython.score-17 {background-color: #FFFF5e;}\n.cython.score-18 {background-color: #FFFF5b;}\n.cython.score-19 {background-color: #FFFF57;}\n.cython.score-20 {background-color: #FFFF55;}\n.cython.score-21 {background-color: #FFFF52;}\n.cython.score-22 {background-color: #FFFF4f;}\n.cython.score-23 {background-color: #FFFF4d;}\n.cython.score-24 {background-color: #FFFF4b;}\n.cython.score-25 {background-color: #FFFF48;}\n.cython.score-26 {background-color: #FFFF46;}\n.cython.score-27 {background-color: #FFFF44;}\n.cython.score-28 {background-color: #FFFF43;}\n.cython.score-29 {background-color: #FFFF41;}\n.cython.score-30 {background-color: #FFFF3f;}\n.cython.score-31 {background-color: #FFFF3e;}\n.cython.score-32 {background-color: #FFFF3c;}\n.cython.score-33 {background-color: #FFFF3b;}\n.cython.score-34 {background-color: #FFFF39;}\n.cython.score-35 {background-color: #FFFF38;}\n.cython.score-36 {background-color: #FFFF37;}\n.cython.score-37 {background-color: #FFFF36;}\n.cython.score-38 {background-color: #FFFF35;}\n.cython.score-39 {background-color: #FFFF34;}\n.cython.score-40 {background-color: #FFFF33;}\n.cython.score-41 {background-color: #FFFF32;}\n.cython.score-42 {background-color: #FFFF31;}\n.cython.score-43 {background-color: #FFFF30;}\n.cython.score-44 {background-color: #FFFF2f;}\n.cython.score-45 {background-color: #FFFF2e;}\n.cython.score-46 {background-color: #FFFF2d;}\n.cython.score-47 {background-color: #FFFF2c;}\n.cython.score-48 {background-color: #FFFF2b;}\n.cython.score-49 {background-color: #FFFF2b;}\n.cython.score-50 {background-color: #FFFF2a;}\n.cython.score-51 {background-color: #FFFF29;}\n.cython.score-52 {background-color: #FFFF29;}\n.cython.score-53 {background-color: #FFFF28;}\n.cython.score-54 {background-color: #FFFF27;}\n.cython.score-55 {background-color: #FFFF27;}\n.cython.score-56 {background-color: #FFFF26;}\n.cython.score-57 {background-color: #FFFF26;}\n.cython.score-58 {background-color: #FFFF25;}\n.cython.score-59 {background-color: #FFFF24;}\n.cython.score-60 {background-color: #FFFF24;}\n.cython.score-61 {background-color: #FFFF23;}\n.cython.score-62 {background-color: #FFFF23;}\n.cython.score-63 {background-color: #FFFF22;}\n.cython.score-64 {background-color: #FFFF22;}\n.cython.score-65 {background-color: #FFFF22;}\n.cython.score-66 {background-color: #FFFF21;}\n.cython.score-67 {background-color: #FFFF21;}\n.cython.score-68 {background-color: #FFFF20;}\n.cython.score-69 {background-color: #FFFF20;}\n.cython.score-70 {background-color: #FFFF1f;}\n.cython.score-71 {background-color: #FFFF1f;}\n.cython.score-72 {background-color: #FFFF1f;}\n.cython.score-73 {background-color: #FFFF1e;}\n.cython.score-74 {background-color: #FFFF1e;}\n.cython.score-75 {background-color: #FFFF1e;}\n.cython.score-76 {background-color: #FFFF1d;}\n.cython.score-77 {background-color: #FFFF1d;}\n.cython.score-78 {background-color: #FFFF1c;}\n.cython.score-79 {background-color: #FFFF1c;}\n.cython.score-80 {background-color: #FFFF1c;}\n.cython.score-81 {background-color: #FFFF1c;}\n.cython.score-82 {background-color: #FFFF1b;}\n.cython.score-83 {background-color: #FFFF1b;}\n.cython.score-84 {background-color: #FFFF1b;}\n.cython.score-85 {background-color: #FFFF1a;}\n.cython.score-86 {background-color: #FFFF1a;}\n.cython.score-87 {background-color: #FFFF1a;}\n.cython.score-88 {background-color: #FFFF1a;}\n.cython.score-89 {background-color: #FFFF19;}\n.cython.score-90 {background-color: #FFFF19;}\n.cython.score-91 {background-color: #FFFF19;}\n.cython.score-92 {background-color: #FFFF19;}\n.cython.score-93 {background-color: #FFFF18;}\n.cython.score-94 {background-color: #FFFF18;}\n.cython.score-95 {background-color: #FFFF18;}\n.cython.score-96 {background-color: #FFFF18;}\n.cython.score-97 {background-color: #FFFF17;}\n.cython.score-98 {background-color: #FFFF17;}\n.cython.score-99 {background-color: #FFFF17;}\n.cython.score-100 {background-color: #FFFF17;}\n.cython.score-101 {background-color: #FFFF16;}\n.cython.score-102 {background-color: #FFFF16;}\n.cython.score-103 {background-color: #FFFF16;}\n.cython.score-104 {background-color: #FFFF16;}\n.cython.score-105 {background-color: #FFFF16;}\n.cython.score-106 {background-color: #FFFF15;}\n.cython.score-107 {background-color: #FFFF15;}\n.cython.score-108 {background-color: #FFFF15;}\n.cython.score-109 {background-color: #FFFF15;}\n.cython.score-110 {background-color: #FFFF15;}\n.cython.score-111 {background-color: #FFFF15;}\n.cython.score-112 {background-color: #FFFF14;}\n.cython.score-113 {background-color: #FFFF14;}\n.cython.score-114 {background-color: #FFFF14;}\n.cython.score-115 {background-color: #FFFF14;}\n.cython.score-116 {background-color: #FFFF14;}\n.cython.score-117 {background-color: #FFFF14;}\n.cython.score-118 {background-color: #FFFF13;}\n.cython.score-119 {background-color: #FFFF13;}\n.cython.score-120 {background-color: #FFFF13;}\n.cython.score-121 {background-color: #FFFF13;}\n.cython.score-122 {background-color: #FFFF13;}\n.cython.score-123 {background-color: #FFFF13;}\n.cython.score-124 {background-color: #FFFF13;}\n.cython.score-125 {background-color: #FFFF12;}\n.cython.score-126 {background-color: #FFFF12;}\n.cython.score-127 {background-color: #FFFF12;}\n.cython.score-128 {background-color: #FFFF12;}\n.cython.score-129 {background-color: #FFFF12;}\n.cython.score-130 {background-color: #FFFF12;}\n.cython.score-131 {background-color: #FFFF12;}\n.cython.score-132 {background-color: #FFFF11;}\n.cython.score-133 {background-color: #FFFF11;}\n.cython.score-134 {background-color: #FFFF11;}\n.cython.score-135 {background-color: #FFFF11;}\n.cython.score-136 {background-color: #FFFF11;}\n.cython.score-137 {background-color: #FFFF11;}\n.cython.score-138 {background-color: #FFFF11;}\n.cython.score-139 {background-color: #FFFF11;}\n.cython.score-140 {background-color: #FFFF11;}\n.cython.score-141 {background-color: #FFFF10;}\n.cython.score-142 {background-color: #FFFF10;}\n.cython.score-143 {background-color: #FFFF10;}\n.cython.score-144 {background-color: #FFFF10;}\n.cython.score-145 {background-color: #FFFF10;}\n.cython.score-146 {background-color: #FFFF10;}\n.cython.score-147 {background-color: #FFFF10;}\n.cython.score-148 {background-color: #FFFF10;}\n.cython.score-149 {background-color: #FFFF10;}\n.cython.score-150 {background-color: #FFFF0f;}\n.cython.score-151 {background-color: #FFFF0f;}\n.cython.score-152 {background-color: #FFFF0f;}\n.cython.score-153 {background-color: #FFFF0f;}\n.cython.score-154 {background-color: #FFFF0f;}\n.cython.score-155 {background-color: #FFFF0f;}\n.cython.score-156 {background-color: #FFFF0f;}\n.cython.score-157 {background-color: #FFFF0f;}\n.cython.score-158 {background-color: #FFFF0f;}\n.cython.score-159 {background-color: #FFFF0f;}\n.cython.score-160 {background-color: #FFFF0f;}\n.cython.score-161 {background-color: #FFFF0e;}\n.cython.score-162 {background-color: #FFFF0e;}\n.cython.score-163 {background-color: #FFFF0e;}\n.cython.score-164 {background-color: #FFFF0e;}\n.cython.score-165 {background-color: #FFFF0e;}\n.cython.score-166 {background-color: #FFFF0e;}\n.cython.score-167 {background-color: #FFFF0e;}\n.cython.score-168 {background-color: #FFFF0e;}\n.cython.score-169 {background-color: #FFFF0e;}\n.cython.score-170 {background-color: #FFFF0e;}\n.cython.score-171 {background-color: #FFFF0e;}\n.cython.score-172 {background-color: #FFFF0e;}\n.cython.score-173 {background-color: #FFFF0d;}\n.cython.score-174 {background-color: #FFFF0d;}\n.cython.score-175 {background-color: #FFFF0d;}\n.cython.score-176 {background-color: #FFFF0d;}\n.cython.score-177 {background-color: #FFFF0d;}\n.cython.score-178 {background-color: #FFFF0d;}\n.cython.score-179 {background-color: #FFFF0d;}\n.cython.score-180 {background-color: #FFFF0d;}\n.cython.score-181 {background-color: #FFFF0d;}\n.cython.score-182 {background-color: #FFFF0d;}\n.cython.score-183 {background-color: #FFFF0d;}\n.cython.score-184 {background-color: #FFFF0d;}\n.cython.score-185 {background-color: #FFFF0d;}\n.cython.score-186 {background-color: #FFFF0d;}\n.cython.score-187 {background-color: #FFFF0c;}\n.cython.score-188 {background-color: #FFFF0c;}\n.cython.score-189 {background-color: #FFFF0c;}\n.cython.score-190 {background-color: #FFFF0c;}\n.cython.score-191 {background-color: #FFFF0c;}\n.cython.score-192 {background-color: #FFFF0c;}\n.cython.score-193 {background-color: #FFFF0c;}\n.cython.score-194 {background-color: #FFFF0c;}\n.cython.score-195 {background-color: #FFFF0c;}\n.cython.score-196 {background-color: #FFFF0c;}\n.cython.score-197 {background-color: #FFFF0c;}\n.cython.score-198 {background-color: #FFFF0c;}\n.cython.score-199 {background-color: #FFFF0c;}\n.cython.score-200 {background-color: #FFFF0c;}\n.cython.score-201 {background-color: #FFFF0c;}\n.cython.score-202 {background-color: #FFFF0c;}\n.cython.score-203 {background-color: #FFFF0b;}\n.cython.score-204 {background-color: #FFFF0b;}\n.cython.score-205 {background-color: #FFFF0b;}\n.cython.score-206 {background-color: #FFFF0b;}\n.cython.score-207 {background-color: #FFFF0b;}\n.cython.score-208 {background-color: #FFFF0b;}\n.cython.score-209 {background-color: #FFFF0b;}\n.cython.score-210 {background-color: #FFFF0b;}\n.cython.score-211 {background-color: #FFFF0b;}\n.cython.score-212 {background-color: #FFFF0b;}\n.cython.score-213 {background-color: #FFFF0b;}\n.cython.score-214 {background-color: #FFFF0b;}\n.cython.score-215 {background-color: #FFFF0b;}\n.cython.score-216 {background-color: #FFFF0b;}\n.cython.score-217 {background-color: #FFFF0b;}\n.cython.score-218 {background-color: #FFFF0b;}\n.cython.score-219 {background-color: #FFFF0b;}\n.cython.score-220 {background-color: #FFFF0b;}\n.cython.score-221 {background-color: #FFFF0b;}\n.cython.score-222 {background-color: #FFFF0a;}\n.cython.score-223 {background-color: #FFFF0a;}\n.cython.score-224 {background-color: #FFFF0a;}\n.cython.score-225 {background-color: #FFFF0a;}\n.cython.score-226 {background-color: #FFFF0a;}\n.cython.score-227 {background-color: #FFFF0a;}\n.cython.score-228 {background-color: #FFFF0a;}\n.cython.score-229 {background-color: #FFFF0a;}\n.cython.score-230 {background-color: #FFFF0a;}\n.cython.score-231 {background-color: #FFFF0a;}\n.cython.score-232 {background-color: #FFFF0a;}\n.cython.score-233 {background-color: #FFFF0a;}\n.cython.score-234 {background-color: #FFFF0a;}\n.cython.score-235 {background-color: #FFFF0a;}\n.cython.score-236 {background-color: #FFFF0a;}\n.cython.score-237 {background-color: #FFFF0a;}\n.cython.score-238 {background-color: #FFFF0a;}\n.cython.score-239 {background-color: #FFFF0a;}\n.cython.score-240 {background-color: #FFFF0a;}\n.cython.score-241 {background-color: #FFFF0a;}\n.cython.score-242 {background-color: #FFFF0a;}\n.cython.score-243 {background-color: #FFFF0a;}\n.cython.score-244 {background-color: #FFFF0a;}\n.cython.score-245 {background-color: #FFFF0a;}\n.cython.score-246 {background-color: #FFFF09;}\n.cython.score-247 {background-color: #FFFF09;}\n.cython.score-248 {background-color: #FFFF09;}\n.cython.score-249 {background-color: #FFFF09;}\n.cython.score-250 {background-color: #FFFF09;}\n.cython.score-251 {background-color: #FFFF09;}\n.cython.score-252 {background-color: #FFFF09;}\n.cython.score-253 {background-color: #FFFF09;}\n.cython.score-254 {background-color: #FFFF09;}\npre { line-height: 125%; }\ntd.linenos .normal { color: inherit; background-color: transparent; padding-left: 5px; padding-right: 5px; }\nspan.linenos { color: inherit; background-color: transparent; padding-left: 5px; padding-right: 5px; }\ntd.linenos .special { color: #000000; background-color: #ffffc0; padding-left: 5px; padding-right: 5px; }\nspan.linenos.special { color: #000000; background-color: #ffffc0; padding-left: 5px; padding-right: 5px; }\n.cython .hll { background-color: #ffffcc }\n.cython { background: #f8f8f8; }\n.cython .c { color: #3D7B7B; font-style: italic } /* Comment */\n.cython .err { border: 1px solid #FF0000 } /* Error */\n.cython .k { color: #008000; font-weight: bold } /* Keyword */\n.cython .o { color: #666666 } /* Operator */\n.cython .ch { color: #3D7B7B; font-style: italic } /* Comment.Hashbang */\n.cython .cm { color: #3D7B7B; font-style: italic } /* Comment.Multiline */\n.cython .cp { color: #9C6500 } /* Comment.Preproc */\n.cython .cpf { color: #3D7B7B; font-style: italic } /* Comment.PreprocFile */\n.cython .c1 { color: #3D7B7B; font-style: italic } /* Comment.Single */\n.cython .cs { color: #3D7B7B; font-style: italic } /* Comment.Special */\n.cython .gd { color: #A00000 } /* Generic.Deleted */\n.cython .ge { font-style: italic } /* Generic.Emph */\n.cython .ges { font-weight: bold; font-style: italic } /* Generic.EmphStrong */\n.cython .gr { color: #E40000 } /* Generic.Error */\n.cython .gh { color: #000080; font-weight: bold } /* Generic.Heading */\n.cython .gi { color: #008400 } /* Generic.Inserted */\n.cython .go { color: #717171 } /* Generic.Output */\n.cython .gp { color: #000080; font-weight: bold } /* Generic.Prompt */\n.cython .gs { font-weight: bold } /* Generic.Strong */\n.cython .gu { color: #800080; font-weight: bold } /* Generic.Subheading */\n.cython .gt { color: #0044DD } /* Generic.Traceback */\n.cython .kc { color: #008000; font-weight: bold } /* Keyword.Constant */\n.cython .kd { color: #008000; font-weight: bold } /* Keyword.Declaration */\n.cython .kn { color: #008000; font-weight: bold } /* Keyword.Namespace */\n.cython .kp { color: #008000 } /* Keyword.Pseudo */\n.cython .kr { color: #008000; font-weight: bold } /* Keyword.Reserved */\n.cython .kt { color: #B00040 } /* Keyword.Type */\n.cython .m { color: #666666 } /* Literal.Number */\n.cython .s { color: #BA2121 } /* Literal.String */\n.cython .na { color: #687822 } /* Name.Attribute */\n.cython .nb { color: #008000 } /* Name.Builtin */\n.cython .nc { color: #0000FF; font-weight: bold } /* Name.Class */\n.cython .no { color: #880000 } /* Name.Constant */\n.cython .nd { color: #AA22FF } /* Name.Decorator */\n.cython .ni { color: #717171; font-weight: bold } /* Name.Entity */\n.cython .ne { color: #CB3F38; font-weight: bold } /* Name.Exception */\n.cython .nf { color: #0000FF } /* Name.Function */\n.cython .nl { color: #767600 } /* Name.Label */\n.cython .nn { color: #0000FF; font-weight: bold } /* Name.Namespace */\n.cython .nt { color: #008000; font-weight: bold } /* Name.Tag */\n.cython .nv { color: #19177C } /* Name.Variable */\n.cython .ow { color: #AA22FF; font-weight: bold } /* Operator.Word */\n.cython .w { color: #bbbbbb } /* Text.Whitespace */\n.cython .mb { color: #666666 } /* Literal.Number.Bin */\n.cython .mf { color: #666666 } /* Literal.Number.Float */\n.cython .mh { color: #666666 } /* Literal.Number.Hex */\n.cython .mi { color: #666666 } /* Literal.Number.Integer */\n.cython .mo { color: #666666 } /* Literal.Number.Oct */\n.cython .sa { color: #BA2121 } /* Literal.String.Affix */\n.cython .sb { color: #BA2121 } /* Literal.String.Backtick */\n.cython .sc { color: #BA2121 } /* Literal.String.Char */\n.cython .dl { color: #BA2121 } /* Literal.String.Delimiter */\n.cython .sd { color: #BA2121; font-style: italic } /* Literal.String.Doc */\n.cython .s2 { color: #BA2121 } /* Literal.String.Double */\n.cython .se { color: #AA5D1F; font-weight: bold } /* Literal.String.Escape */\n.cython .sh { color: #BA2121 } /* Literal.String.Heredoc */\n.cython .si { color: #A45A77; font-weight: bold } /* Literal.String.Interpol */\n.cython .sx { color: #008000 } /* Literal.String.Other */\n.cython .sr { color: #A45A77 } /* Literal.String.Regex */\n.cython .s1 { color: #BA2121 } /* Literal.String.Single */\n.cython .ss { color: #19177C } /* Literal.String.Symbol */\n.cython .bp { color: #008000 } /* Name.Builtin.Pseudo */\n.cython .fm { color: #0000FF } /* Name.Function.Magic */\n.cython .vc { color: #19177C } /* Name.Variable.Class */\n.cython .vg { color: #19177C } /* Name.Variable.Global */\n.cython .vi { color: #19177C } /* Name.Variable.Instance */\n.cython .vm { color: #19177C } /* Name.Variable.Magic */\n.cython .il { color: #666666 } /* Literal.Number.Integer.Long */\n    </style>\n</head>\n<body class=\"cython\">\n<p><span style=\"border-bottom: solid 1px grey;\">Generated by Cython 3.0.5</span></p>\n<p>\n    <span style=\"background-color: #FFFF00\">Yellow lines</span> hint at Python interaction.<br />\n    Click on a line that starts with a \"<code>+</code>\" to see the C code that Cython generated for it.\n</p>\n<div class=\"cython\"><pre class=\"cython line score-16\" onclick=\"(function(s){s.display=s.display==='block'?'none':'block'})(this.nextElementSibling.style)\">+<span class=\"\">01</span>: <span class=\"k\">import</span> <span class=\"nn\">numpy</span> <span class=\"k\">as</span> <span class=\"nn\">np</span></pre>\n<pre class='cython code score-16 '>  __pyx_t_7 = <span class='pyx_c_api'>__Pyx_ImportDottedModule</span>(__pyx_n_s_numpy, NULL);<span class='error_goto'> if (unlikely(!__pyx_t_7)) __PYX_ERR(0, 1, __pyx_L1_error)</span>\n  <span class='refnanny'>__Pyx_GOTREF</span>(__pyx_t_7);\n  if (<span class='py_c_api'>PyDict_SetItem</span>(__pyx_d, __pyx_n_s_np, __pyx_t_7) &lt; 0) <span class='error_goto'>__PYX_ERR(0, 1, __pyx_L1_error)</span>\n  <span class='pyx_macro_api'>__Pyx_DECREF</span>(__pyx_t_7); __pyx_t_7 = 0;\n/* … */\n  __pyx_t_4 = <span class='pyx_c_api'>__Pyx_PyDict_NewPresized</span>(0);<span class='error_goto'> if (unlikely(!__pyx_t_4)) __PYX_ERR(0, 1, __pyx_L1_error)</span>\n  <span class='refnanny'>__Pyx_GOTREF</span>(__pyx_t_4);\n  if (<span class='py_c_api'>PyDict_SetItem</span>(__pyx_d, __pyx_n_s_test, __pyx_t_4) &lt; 0) <span class='error_goto'>__PYX_ERR(0, 1, __pyx_L1_error)</span>\n  <span class='pyx_macro_api'>__Pyx_DECREF</span>(__pyx_t_4); __pyx_t_4 = 0;\n</pre><pre class=\"cython line score-0\">&#xA0;<span class=\"\">02</span>: <span class=\"k\">cimport</span> <span class=\"nn\">numpy</span> <span class=\"k\">as</span> <span class=\"nn\">np</span></pre>\n<pre class=\"cython line score-0\">&#xA0;<span class=\"\">03</span>: </pre>\n<pre class=\"cython line score-59\" onclick=\"(function(s){s.display=s.display==='block'?'none':'block'})(this.nextElementSibling.style)\">+<span class=\"\">04</span>: <span class=\"k\">def</span> <span class=\"nf\">strange_conv_cython</span><span class=\"p\">(</span><span class=\"n\">np</span><span class=\"o\">.</span><span class=\"n\">float64_t</span><span class=\"p\">[:,</span> <span class=\"p\">:]</span> <span class=\"n\">a</span><span class=\"p\">)</span> <span class=\"o\">-&gt;</span> <span class=\"n\">np</span><span class=\"o\">.</span><span class=\"n\">float64_t</span><span class=\"p\">:</span></pre>\n<pre class='cython code score-59 '>/* Python wrapper */\nstatic PyObject *__pyx_pw_54_cython_magic_76c82c2ab29c3e01abd99bf93eddaa658389f87a_1strange_conv_cython(PyObject *__pyx_self, \n#if CYTHON_METH_FASTCALL\nPyObject *const *__pyx_args, Py_ssize_t __pyx_nargs, PyObject *__pyx_kwds\n#else\nPyObject *__pyx_args, PyObject *__pyx_kwds\n#endif\n); /*proto*/\nstatic PyMethodDef __pyx_mdef_54_cython_magic_76c82c2ab29c3e01abd99bf93eddaa658389f87a_1strange_conv_cython = {\"strange_conv_cython\", (PyCFunction)(void*)(__Pyx_PyCFunction_FastCallWithKeywords)__pyx_pw_54_cython_magic_76c82c2ab29c3e01abd99bf93eddaa658389f87a_1strange_conv_cython, __Pyx_METH_FASTCALL|METH_KEYWORDS, 0};\nstatic PyObject *__pyx_pw_54_cython_magic_76c82c2ab29c3e01abd99bf93eddaa658389f87a_1strange_conv_cython(PyObject *__pyx_self, \n#if CYTHON_METH_FASTCALL\nPyObject *const *__pyx_args, Py_ssize_t __pyx_nargs, PyObject *__pyx_kwds\n#else\nPyObject *__pyx_args, PyObject *__pyx_kwds\n#endif\n) {\n  __Pyx_memviewslice __pyx_v_a = { 0, 0, { 0 }, { 0 }, { 0 } };\n  #if !CYTHON_METH_FASTCALL\n  CYTHON_UNUSED Py_ssize_t __pyx_nargs;\n  #endif\n  CYTHON_UNUSED PyObject *const *__pyx_kwvalues;\n  PyObject *__pyx_r = 0;\n  <span class='refnanny'>__Pyx_RefNannyDeclarations</span>\n  <span class='refnanny'>__Pyx_RefNannySetupContext</span>(\"strange_conv_cython (wrapper)\", 0);\n  #if !CYTHON_METH_FASTCALL\n  #if CYTHON_ASSUME_SAFE_MACROS\n  __pyx_nargs = <span class='py_macro_api'>PyTuple_GET_SIZE</span>(__pyx_args);\n  #else\n  __pyx_nargs = <span class='py_c_api'>PyTuple_Size</span>(__pyx_args); if (unlikely(__pyx_nargs &lt; 0)) return NULL;\n  #endif\n  #endif\n  __pyx_kwvalues = <span class='pyx_c_api'>__Pyx_KwValues_FASTCALL</span>(__pyx_args, __pyx_nargs);\n  {\n    PyObject **__pyx_pyargnames[] = {&amp;__pyx_n_s_a,0};\n  PyObject* values[1] = {0};\n    if (__pyx_kwds) {\n      Py_ssize_t kw_args;\n      switch (__pyx_nargs) {\n        case  1: values[0] = <span class='pyx_c_api'>__Pyx_Arg_FASTCALL</span>(__pyx_args, 0);\n        CYTHON_FALLTHROUGH;\n        case  0: break;\n        default: goto __pyx_L5_argtuple_error;\n      }\n      kw_args = <span class='pyx_c_api'>__Pyx_NumKwargs_FASTCALL</span>(__pyx_kwds);\n      switch (__pyx_nargs) {\n        case  0:\n        if (likely((values[0] = <span class='pyx_c_api'>__Pyx_GetKwValue_FASTCALL</span>(__pyx_kwds, __pyx_kwvalues, __pyx_n_s_a)) != 0)) {\n          (void)<span class='pyx_c_api'>__Pyx_Arg_NewRef_FASTCALL</span>(values[0]);\n          kw_args--;\n        }\n        else if (unlikely(<span class='py_c_api'>PyErr_Occurred</span>())) <span class='error_goto'>__PYX_ERR(0, 4, __pyx_L3_error)</span>\n        else goto __pyx_L5_argtuple_error;\n      }\n      if (unlikely(kw_args &gt; 0)) {\n        const Py_ssize_t kwd_pos_args = __pyx_nargs;\n        if (unlikely(<span class='pyx_c_api'>__Pyx_ParseOptionalKeywords</span>(__pyx_kwds, __pyx_kwvalues, __pyx_pyargnames, 0, values + 0, kwd_pos_args, \"strange_conv_cython\") &lt; 0)) <span class='error_goto'>__PYX_ERR(0, 4, __pyx_L3_error)</span>\n      }\n    } else if (unlikely(__pyx_nargs != 1)) {\n      goto __pyx_L5_argtuple_error;\n    } else {\n      values[0] = <span class='pyx_c_api'>__Pyx_Arg_FASTCALL</span>(__pyx_args, 0);\n    }\n    __pyx_v_a = __Pyx_PyObject_to_MemoryviewSlice_dsds_nn___pyx_t_5numpy_float64_t(values[0], PyBUF_WRITABLE);<span class='error_goto'> if (unlikely(!__pyx_v_a.memview)) __PYX_ERR(0, 4, __pyx_L3_error)</span>\n  }\n  goto __pyx_L6_skip;\n  __pyx_L5_argtuple_error:;\n  <span class='pyx_c_api'>__Pyx_RaiseArgtupleInvalid</span>(\"strange_conv_cython\", 1, 1, 1, __pyx_nargs); <span class='error_goto'>__PYX_ERR(0, 4, __pyx_L3_error)</span>\n  __pyx_L6_skip:;\n  goto __pyx_L4_argument_unpacking_done;\n  __pyx_L3_error:;\n  {\n    Py_ssize_t __pyx_temp;\n    for (__pyx_temp=0; __pyx_temp &lt; (Py_ssize_t)(sizeof(values)/sizeof(values[0])); ++__pyx_temp) {\n      <span class='pyx_c_api'>__Pyx_Arg_XDECREF_FASTCALL</span>(values[__pyx_temp]);\n    }\n  }\n  __PYX_XCLEAR_MEMVIEW(&amp;__pyx_v_a, 1);\n  <span class='pyx_c_api'>__Pyx_AddTraceback</span>(\"_cython_magic_76c82c2ab29c3e01abd99bf93eddaa658389f87a.strange_conv_cython\", __pyx_clineno, __pyx_lineno, __pyx_filename);\n  <span class='refnanny'>__Pyx_RefNannyFinishContext</span>();\n  return NULL;\n  __pyx_L4_argument_unpacking_done:;\n  __pyx_r = __pyx_pf_54_cython_magic_76c82c2ab29c3e01abd99bf93eddaa658389f87a_strange_conv_cython(__pyx_self, __pyx_v_a);\n  int __pyx_lineno = 0;\n  const char *__pyx_filename = NULL;\n  int __pyx_clineno = 0;\n\n  /* function exit code */\n  __PYX_XCLEAR_MEMVIEW(&amp;__pyx_v_a, 1);\n  {\n    Py_ssize_t __pyx_temp;\n    for (__pyx_temp=0; __pyx_temp &lt; (Py_ssize_t)(sizeof(values)/sizeof(values[0])); ++__pyx_temp) {\n      <span class='pyx_c_api'>__Pyx_Arg_XDECREF_FASTCALL</span>(values[__pyx_temp]);\n    }\n  }\n  <span class='refnanny'>__Pyx_RefNannyFinishContext</span>();\n  return __pyx_r;\n}\n\nstatic PyObject *__pyx_pf_54_cython_magic_76c82c2ab29c3e01abd99bf93eddaa658389f87a_strange_conv_cython(CYTHON_UNUSED PyObject *__pyx_self, __Pyx_memviewslice __pyx_v_a) {\n  int __pyx_v_x;\n  int __pyx_v_y;\n  double __pyx_v_t;\n  double __pyx_v_c;\n  PyObject *__pyx_r = NULL;\n/* … */\n  /* function exit code */\n  __pyx_L1_error:;\n  <span class='pyx_macro_api'>__Pyx_XDECREF</span>(__pyx_t_16);\n  <span class='pyx_c_api'>__Pyx_AddTraceback</span>(\"_cython_magic_76c82c2ab29c3e01abd99bf93eddaa658389f87a.strange_conv_cython\", __pyx_clineno, __pyx_lineno, __pyx_filename);\n  __pyx_r = NULL;\n  __pyx_L0:;\n  <span class='refnanny'>__Pyx_XGIVEREF</span>(__pyx_r);\n  <span class='refnanny'>__Pyx_RefNannyFinishContext</span>();\n  return __pyx_r;\n}\n/* … */\n  __pyx_tuple__22 = <span class='py_c_api'>PyTuple_Pack</span>(5, __pyx_n_s_a, __pyx_n_s_x, __pyx_n_s_y, __pyx_n_s_t, __pyx_n_s_c);<span class='error_goto'> if (unlikely(!__pyx_tuple__22)) __PYX_ERR(0, 4, __pyx_L1_error)</span>\n  <span class='refnanny'>__Pyx_GOTREF</span>(__pyx_tuple__22);\n  <span class='refnanny'>__Pyx_GIVEREF</span>(__pyx_tuple__22);\n/* … */\n  __pyx_t_7 = <span class='pyx_c_api'>__Pyx_PyDict_NewPresized</span>(1);<span class='error_goto'> if (unlikely(!__pyx_t_7)) __PYX_ERR(0, 4, __pyx_L1_error)</span>\n  <span class='refnanny'>__Pyx_GOTREF</span>(__pyx_t_7);\n  if (<span class='py_c_api'>PyDict_SetItem</span>(__pyx_t_7, __pyx_n_s_return, __pyx_kp_s_np_float64_t) &lt; 0) <span class='error_goto'>__PYX_ERR(0, 4, __pyx_L1_error)</span>\n  __pyx_t_4 = <span class='pyx_c_api'>__Pyx_CyFunction_New</span>(&amp;__pyx_mdef_54_cython_magic_76c82c2ab29c3e01abd99bf93eddaa658389f87a_1strange_conv_cython, 0, __pyx_n_s_strange_conv_cython, NULL, __pyx_n_s_cython_magic_76c82c2ab29c3e01ab, __pyx_d, ((PyObject *)__pyx_codeobj__23));<span class='error_goto'> if (unlikely(!__pyx_t_4)) __PYX_ERR(0, 4, __pyx_L1_error)</span>\n  <span class='refnanny'>__Pyx_GOTREF</span>(__pyx_t_4);\n  <span class='pyx_c_api'>__Pyx_CyFunction_SetAnnotationsDict</span>(__pyx_t_4, __pyx_t_7);\n  <span class='pyx_macro_api'>__Pyx_DECREF</span>(__pyx_t_7); __pyx_t_7 = 0;\n  if (<span class='py_c_api'>PyDict_SetItem</span>(__pyx_d, __pyx_n_s_strange_conv_cython, __pyx_t_4) &lt; 0) <span class='error_goto'>__PYX_ERR(0, 4, __pyx_L1_error)</span>\n  <span class='pyx_macro_api'>__Pyx_DECREF</span>(__pyx_t_4); __pyx_t_4 = 0;\n</pre><pre class=\"cython line score-0\" onclick=\"(function(s){s.display=s.display==='block'?'none':'block'})(this.nextElementSibling.style)\">+<span class=\"\">05</span>:     <span class=\"k\">cdef</span> <span class=\"kt\">int</span> <span class=\"nf\">x</span> <span class=\"o\">=</span> <span class=\"n\">a</span><span class=\"o\">.</span><span class=\"n\">shape</span><span class=\"p\">[</span><span class=\"mf\">0</span><span class=\"p\">]</span></pre>\n<pre class='cython code score-0 '>  __pyx_v_x = (__pyx_v_a.shape[0]);\n</pre><pre class=\"cython line score-0\" onclick=\"(function(s){s.display=s.display==='block'?'none':'block'})(this.nextElementSibling.style)\">+<span class=\"\">06</span>:     <span class=\"k\">cdef</span> <span class=\"kt\">int</span> <span class=\"nf\">y</span> <span class=\"o\">=</span> <span class=\"n\">a</span><span class=\"o\">.</span><span class=\"n\">shape</span><span class=\"p\">[</span><span class=\"mf\">1</span><span class=\"p\">]</span></pre>\n<pre class='cython code score-0 '>  __pyx_v_y = (__pyx_v_a.shape[1]);\n</pre><pre class=\"cython line score-0\">&#xA0;<span class=\"\">07</span>: </pre>\n<pre class=\"cython line score-0\" onclick=\"(function(s){s.display=s.display==='block'?'none':'block'})(this.nextElementSibling.style)\">+<span class=\"\">08</span>:     <span class=\"k\">cdef</span> <span class=\"kt\">double</span> <span class=\"nf\">t</span> <span class=\"o\">=</span> <span class=\"mf\">1.</span></pre>\n<pre class='cython code score-0 '>  __pyx_v_t = 1.;\n</pre><pre class=\"cython line score-0\">&#xA0;<span class=\"\">09</span>:     <span class=\"k\">cdef</span> <span class=\"kt\">double</span> <span class=\"nf\">c</span></pre>\n<pre class=\"cython line score-0\">&#xA0;<span class=\"\">10</span>: </pre>\n<pre class=\"cython line score-0\" onclick=\"(function(s){s.display=s.display==='block'?'none':'block'})(this.nextElementSibling.style)\">+<span class=\"\">11</span>:     <span class=\"k\">for</span> <span class=\"n\">y</span> <span class=\"ow\">in</span> <span class=\"nb\">range</span><span class=\"p\">(</span><span class=\"n\">y</span> <span class=\"o\">-</span> <span class=\"mf\">5</span><span class=\"p\">):</span></pre>\n<pre class='cython code score-0 '>  __pyx_t_1 = (__pyx_v_y - 5);\n  __pyx_t_2 = __pyx_t_1;\n  for (__pyx_t_3 = 0; __pyx_t_3 &lt; __pyx_t_2; __pyx_t_3+=1) {\n    __pyx_v_y = __pyx_t_3;\n</pre><pre class=\"cython line score-0\" onclick=\"(function(s){s.display=s.display==='block'?'none':'block'})(this.nextElementSibling.style)\">+<span class=\"\">12</span>:         <span class=\"k\">for</span> <span class=\"n\">x</span> <span class=\"ow\">in</span> <span class=\"nb\">range</span><span class=\"p\">(</span><span class=\"n\">x</span> <span class=\"o\">-</span> <span class=\"mf\">3</span><span class=\"p\">):</span></pre>\n<pre class='cython code score-0 '>    __pyx_t_4 = (__pyx_v_x - 3);\n    __pyx_t_5 = __pyx_t_4;\n    for (__pyx_t_6 = 0; __pyx_t_6 &lt; __pyx_t_5; __pyx_t_6+=1) {\n      __pyx_v_x = __pyx_t_6;\n</pre><pre class=\"cython line score-8\" onclick=\"(function(s){s.display=s.display==='block'?'none':'block'})(this.nextElementSibling.style)\">+<span class=\"\">13</span>:             <span class=\"n\">c</span> <span class=\"o\">=</span> <span class=\"mf\">1.5</span> <span class=\"o\">*</span> <span class=\"n\">a</span><span class=\"p\">[</span><span class=\"n\">y</span><span class=\"o\">+</span><span class=\"mf\">1</span><span class=\"p\">,</span> <span class=\"n\">x</span><span class=\"o\">+</span><span class=\"mf\">2</span><span class=\"p\">]</span> <span class=\"o\">-</span> <span class=\"n\">a</span><span class=\"p\">[</span><span class=\"n\">y</span><span class=\"o\">+</span><span class=\"mf\">5</span><span class=\"p\">,</span> <span class=\"n\">x</span><span class=\"o\">+</span><span class=\"mf\">3</span><span class=\"p\">]</span> <span class=\"o\">*</span> <span class=\"n\">a</span><span class=\"p\">[</span><span class=\"n\">y</span><span class=\"p\">,</span> <span class=\"n\">x</span><span class=\"p\">]</span> <span class=\"o\">+</span> <span class=\"mf\">0.2</span> <span class=\"o\">*</span> <span class=\"n\">a</span><span class=\"p\">[</span><span class=\"n\">y</span><span class=\"o\">+</span><span class=\"mf\">4</span><span class=\"p\">,</span> <span class=\"n\">x</span><span class=\"p\">]</span></pre>\n<pre class='cython code score-8 '>      __pyx_t_7 = (__pyx_v_y + 1);\n      __pyx_t_8 = (__pyx_v_x + 2);\n      __pyx_t_9 = -1;\n      if (__pyx_t_7 &lt; 0) {\n        __pyx_t_7 += __pyx_v_a.shape[0];\n        if (unlikely(__pyx_t_7 &lt; 0)) __pyx_t_9 = 0;\n      } else if (unlikely(__pyx_t_7 &gt;= __pyx_v_a.shape[0])) __pyx_t_9 = 0;\n      if (__pyx_t_8 &lt; 0) {\n        __pyx_t_8 += __pyx_v_a.shape[1];\n        if (unlikely(__pyx_t_8 &lt; 0)) __pyx_t_9 = 1;\n      } else if (unlikely(__pyx_t_8 &gt;= __pyx_v_a.shape[1])) __pyx_t_9 = 1;\n      if (unlikely(__pyx_t_9 != -1)) {\n        <span class='pyx_c_api'>__Pyx_RaiseBufferIndexError</span>(__pyx_t_9);\n        <span class='error_goto'>__PYX_ERR(0, 13, __pyx_L1_error)</span>\n      }\n      __pyx_t_10 = (__pyx_v_y + 5);\n      __pyx_t_11 = (__pyx_v_x + 3);\n      __pyx_t_9 = -1;\n      if (__pyx_t_10 &lt; 0) {\n        __pyx_t_10 += __pyx_v_a.shape[0];\n        if (unlikely(__pyx_t_10 &lt; 0)) __pyx_t_9 = 0;\n      } else if (unlikely(__pyx_t_10 &gt;= __pyx_v_a.shape[0])) __pyx_t_9 = 0;\n      if (__pyx_t_11 &lt; 0) {\n        __pyx_t_11 += __pyx_v_a.shape[1];\n        if (unlikely(__pyx_t_11 &lt; 0)) __pyx_t_9 = 1;\n      } else if (unlikely(__pyx_t_11 &gt;= __pyx_v_a.shape[1])) __pyx_t_9 = 1;\n      if (unlikely(__pyx_t_9 != -1)) {\n        <span class='pyx_c_api'>__Pyx_RaiseBufferIndexError</span>(__pyx_t_9);\n        <span class='error_goto'>__PYX_ERR(0, 13, __pyx_L1_error)</span>\n      }\n      __pyx_t_12 = __pyx_v_y;\n      __pyx_t_13 = __pyx_v_x;\n      __pyx_t_9 = -1;\n      if (__pyx_t_12 &lt; 0) {\n        __pyx_t_12 += __pyx_v_a.shape[0];\n        if (unlikely(__pyx_t_12 &lt; 0)) __pyx_t_9 = 0;\n      } else if (unlikely(__pyx_t_12 &gt;= __pyx_v_a.shape[0])) __pyx_t_9 = 0;\n      if (__pyx_t_13 &lt; 0) {\n        __pyx_t_13 += __pyx_v_a.shape[1];\n        if (unlikely(__pyx_t_13 &lt; 0)) __pyx_t_9 = 1;\n      } else if (unlikely(__pyx_t_13 &gt;= __pyx_v_a.shape[1])) __pyx_t_9 = 1;\n      if (unlikely(__pyx_t_9 != -1)) {\n        <span class='pyx_c_api'>__Pyx_RaiseBufferIndexError</span>(__pyx_t_9);\n        <span class='error_goto'>__PYX_ERR(0, 13, __pyx_L1_error)</span>\n      }\n      __pyx_t_14 = (__pyx_v_y + 4);\n      __pyx_t_15 = __pyx_v_x;\n      __pyx_t_9 = -1;\n      if (__pyx_t_14 &lt; 0) {\n        __pyx_t_14 += __pyx_v_a.shape[0];\n        if (unlikely(__pyx_t_14 &lt; 0)) __pyx_t_9 = 0;\n      } else if (unlikely(__pyx_t_14 &gt;= __pyx_v_a.shape[0])) __pyx_t_9 = 0;\n      if (__pyx_t_15 &lt; 0) {\n        __pyx_t_15 += __pyx_v_a.shape[1];\n        if (unlikely(__pyx_t_15 &lt; 0)) __pyx_t_9 = 1;\n      } else if (unlikely(__pyx_t_15 &gt;= __pyx_v_a.shape[1])) __pyx_t_9 = 1;\n      if (unlikely(__pyx_t_9 != -1)) {\n        <span class='pyx_c_api'>__Pyx_RaiseBufferIndexError</span>(__pyx_t_9);\n        <span class='error_goto'>__PYX_ERR(0, 13, __pyx_L1_error)</span>\n      }\n      __pyx_v_c = (((1.5 * (*((__pyx_t_5numpy_float64_t *) ( /* dim=1 */ (( /* dim=0 */ (__pyx_v_a.data + __pyx_t_7 * __pyx_v_a.strides[0]) ) + __pyx_t_8 * __pyx_v_a.strides[1]) )))) - ((*((__pyx_t_5numpy_float64_t *) ( /* dim=1 */ (( /* dim=0 */ (__pyx_v_a.data + __pyx_t_10 * __pyx_v_a.strides[0]) ) + __pyx_t_11 * __pyx_v_a.strides[1]) ))) * (*((__pyx_t_5numpy_float64_t *) ( /* dim=1 */ (( /* dim=0 */ (__pyx_v_a.data + __pyx_t_12 * __pyx_v_a.strides[0]) ) + __pyx_t_13 * __pyx_v_a.strides[1]) ))))) + (0.2 * (*((__pyx_t_5numpy_float64_t *) ( /* dim=1 */ (( /* dim=0 */ (__pyx_v_a.data + __pyx_t_14 * __pyx_v_a.strides[0]) ) + __pyx_t_15 * __pyx_v_a.strides[1]) )))));\n</pre><pre class=\"cython line score-0\" onclick=\"(function(s){s.display=s.display==='block'?'none':'block'})(this.nextElementSibling.style)\">+<span class=\"\">14</span>:             <span class=\"n\">t</span> <span class=\"o\">=</span> <span class=\"mf\">0.2</span> <span class=\"o\">*</span> <span class=\"n\">t</span> <span class=\"o\">+</span> <span class=\"mf\">0.8</span> <span class=\"o\">*</span> <span class=\"n\">c</span></pre>\n<pre class='cython code score-0 '>      __pyx_v_t = ((0.2 * __pyx_v_t) + (0.8 * __pyx_v_c));\n    }\n  }\n</pre><pre class=\"cython line score-0\">&#xA0;<span class=\"\">15</span>: </pre>\n<pre class=\"cython line score-6\" onclick=\"(function(s){s.display=s.display==='block'?'none':'block'})(this.nextElementSibling.style)\">+<span class=\"\">16</span>:     <span class=\"k\">return</span> <span class=\"n\">t</span></pre>\n<pre class='cython code score-6 '>  <span class='pyx_macro_api'>__Pyx_XDECREF</span>(__pyx_r);\n  __pyx_t_16 = <span class='py_c_api'>PyFloat_FromDouble</span>(__pyx_v_t);<span class='error_goto'> if (unlikely(!__pyx_t_16)) __PYX_ERR(0, 16, __pyx_L1_error)</span>\n  <span class='refnanny'>__Pyx_GOTREF</span>(__pyx_t_16);\n  __pyx_r = __pyx_t_16;\n  __pyx_t_16 = 0;\n  goto __pyx_L0;\n</pre><pre class=\"cython line score-0\">&#xA0;<span class=\"\">17</span>: </pre>\n</div></body></html>"
     },
     "execution_count": 45,
     "metadata": {},
     "output_type": "execute_result"
    }
   ],
   "source": [
    "%%cython -a\n",
    "import numpy as np\n",
    "cimport numpy as np\n",
    "\n",
    "def strange_conv_cython(np.float64_t[:, :] a) -> np.float64_t:\n",
    "    cdef int x = a.shape[0]\n",
    "    cdef int y = a.shape[1]\n",
    "\n",
    "    cdef double t = 1.\n",
    "    cdef double c\n",
    "\n",
    "    for y in range(y - 5):\n",
    "        for x in range(x - 3):\n",
    "            c = 1.5 * a[y+1, x+2] - a[y+5, x+3] * a[y, x] + 0.2 * a[y+4, x]\n",
    "            t = 0.2 * t + 0.8 * c\n",
    "\n",
    "    return t\n"
   ],
   "metadata": {
    "collapsed": false,
    "ExecuteTime": {
     "start_time": "2023-11-07T19:31:04.003679Z",
     "end_time": "2023-11-07T19:31:04.048917Z"
    }
   }
  },
  {
   "cell_type": "code",
   "execution_count": 46,
   "outputs": [
    {
     "name": "stdout",
     "output_type": "stream",
     "text": [
      "Original time: 80.9092929230028\n",
      "Numba optimized time: 0.3277851350030687\n",
      "Cython optimized time: 0.2962593599986576\n"
     ]
    }
   ],
   "source": [
    "import timeit\n",
    "\n",
    "original_time = timeit.timeit(lambda: strange_conv(a), number=10)\n",
    "numba_optimized_time = timeit.timeit(lambda: strange_conv_numba(a), number=10)\n",
    "cython_optimized_time = timeit.timeit(lambda: strange_conv_cython(a), number=10)\n",
    "\n",
    "print(f\"Original time: {original_time}\")\n",
    "print(f\"Numba optimized time: {numba_optimized_time}\")\n",
    "print(f\"Cython optimized time: {cython_optimized_time}\")"
   ],
   "metadata": {
    "collapsed": false,
    "ExecuteTime": {
     "start_time": "2023-11-07T19:31:05.738268Z",
     "end_time": "2023-11-07T19:32:27.252276Z"
    }
   }
  },
  {
   "cell_type": "code",
   "execution_count": 47,
   "outputs": [
    {
     "name": "stdout",
     "output_type": "stream",
     "text": [
      "Stange conv:  1.1814190450125897\n",
      "Stange conv numba:  1.1814190450125897\n",
      "Stange conv cython:  1.1814190450125897\n"
     ]
    }
   ],
   "source": [
    "# Let's verify that all 3 functions return the same result\n",
    "print(\"Stange conv: \", strange_conv(a))\n",
    "print(\"Stange conv numba: \", strange_conv_numba(a))\n",
    "print(\"Stange conv cython: \", strange_conv_cython(a))\n"
   ],
   "metadata": {
    "collapsed": false,
    "ExecuteTime": {
     "start_time": "2023-11-07T19:32:56.256973Z",
     "end_time": "2023-11-07T19:33:04.338876Z"
    }
   }
  }
 ],
 "metadata": {
  "kernelspec": {
   "display_name": "Python 3.10.6 64-bit",
   "language": "python",
   "name": "python3"
  },
  "language_info": {
   "codemirror_mode": {
    "name": "ipython",
    "version": 3
   },
   "file_extension": ".py",
   "mimetype": "text/x-python",
   "name": "python",
   "nbconvert_exporter": "python",
   "pygments_lexer": "ipython3",
   "version": "3.10.6"
  },
  "orig_nbformat": 4,
  "vscode": {
   "interpreter": {
    "hash": "916dbcbb3f70747c44a77c7bcd40155683ae19c65e1c03b4aa3499c5328201f1"
   }
  }
 },
 "nbformat": 4,
 "nbformat_minor": 2
}
