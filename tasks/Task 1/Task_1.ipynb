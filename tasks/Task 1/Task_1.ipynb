{
 "cells": [
  {
   "cell_type": "markdown",
   "metadata": {},
   "source": [
    "# Задание 1\n",
    "\n",
    "(**NB.** для запуска примеров кода нужен Python версии не ниже **3.10**, допускается использование других версий, в этом случае нужно самостоятельно избавиться от конструкции `match`).\n",
    "\n",
    "Есть следующий код для [автоматического дифференцирования](https://en.wikipedia.org/wiki/Automatic_differentiation), в котором используются особенности системы типов языка `Python`: "
   ]
  },
  {
   "cell_type": "code",
   "execution_count": 1,
   "metadata": {},
   "outputs": [
    {
     "ename": "SyntaxError",
     "evalue": "invalid syntax (1460578121.py, line 11)",
     "output_type": "error",
     "traceback": [
      "\u001B[0;36m  Cell \u001B[0;32mIn[1], line 11\u001B[0;36m\u001B[0m\n\u001B[0;31m    match other:\u001B[0m\n\u001B[0m          ^\u001B[0m\n\u001B[0;31mSyntaxError\u001B[0m\u001B[0;31m:\u001B[0m invalid syntax\n"
     ]
    }
   ],
   "source": [
    "from dataclasses import dataclass\n",
    "from typing import Union, Callable\n",
    "from numbers import Number\n",
    "\n",
    "@dataclass\n",
    "class Dual:\n",
    "    value: float\n",
    "    d: float\n",
    "\n",
    "    def __add__(self, other: Union[\"Dual\", Number]) -> \"Dual\":\n",
    "         match other:\n",
    "            case Dual(o_value, o_d):\n",
    "                return Dual(self.value + o_value, self.d + o_d)\n",
    "            case Number():\n",
    "                return Dual(float(other) + self.value, self.d)\n",
    "\n",
    "    def __mul__(self, other: Union[\"Dual\", Number]) -> \"Dual\":\n",
    "         match other:\n",
    "            case Dual(o_value, o_d):\n",
    "                return Dual(self.value * o_value, self.value * o_d + self.d * o_value)\n",
    "            case Number():\n",
    "                return Dual(float(other) * self.value, float(other) * self.d)    \n",
    "\n",
    "    __rmul__ = __mul__  # https://docs.python.org/3/reference/datamodel.html#object.__mul__\n",
    "    __radd__ = __add__  # https://docs.python.org/3/reference/datamodel.html#object.__radd__\n",
    " \n",
    "\n",
    "def diff(func: Callable[[float], float]) -> Callable[[float], float]:\n",
    "    return lambda x: func(Dual(x, 1.0)).d"
   ]
  },
  {
   "cell_type": "markdown",
   "metadata": {},
   "source": [
    "Поддерживаются две операции - сложение и умножение. Применить можно так:"
   ]
  },
  {
   "cell_type": "code",
   "execution_count": 3,
   "metadata": {
    "ExecuteTime": {
     "start_time": "2023-10-25T19:20:04.992682Z",
     "end_time": "2023-10-25T19:20:05.005159Z"
    }
   },
   "outputs": [
    {
     "ename": "NameError",
     "evalue": "name 'Dual' is not defined",
     "output_type": "error",
     "traceback": [
      "\u001B[0;31m---------------------------------------------------------------------------\u001B[0m",
      "\u001B[0;31mNameError\u001B[0m                                 Traceback (most recent call last)",
      "Cell \u001B[0;32mIn[3], line 15\u001B[0m\n\u001B[1;32m     12\u001B[0m f_diff \u001B[38;5;241m=\u001B[39m diff(f)\n\u001B[1;32m     14\u001B[0m \u001B[38;5;66;03m# значение производной в точке x = 2\u001B[39;00m\n\u001B[0;32m---> 15\u001B[0m \u001B[43mf_diff\u001B[49m\u001B[43m(\u001B[49m\u001B[38;5;241;43m2\u001B[39;49m\u001B[43m)\u001B[49m\n",
      "Cell \u001B[0;32mIn[3], line 10\u001B[0m, in \u001B[0;36mdiff.<locals>.<lambda>\u001B[0;34m(x)\u001B[0m\n\u001B[1;32m      9\u001B[0m \u001B[38;5;28;01mdef\u001B[39;00m \u001B[38;5;21mdiff\u001B[39m(func: Callable[[\u001B[38;5;28mfloat\u001B[39m], \u001B[38;5;28mfloat\u001B[39m]) \u001B[38;5;241m-\u001B[39m\u001B[38;5;241m>\u001B[39m Callable[[\u001B[38;5;28mfloat\u001B[39m], \u001B[38;5;28mfloat\u001B[39m]:\n\u001B[0;32m---> 10\u001B[0m     \u001B[38;5;28;01mreturn\u001B[39;00m \u001B[38;5;28;01mlambda\u001B[39;00m x: func(\u001B[43mDual\u001B[49m(x, \u001B[38;5;241m1.0\u001B[39m))\u001B[38;5;241m.\u001B[39md\n",
      "\u001B[0;31mNameError\u001B[0m: name 'Dual' is not defined"
     ]
    }
   ],
   "source": [
    "# Функция, которую будем дифференцировать\n",
    "def f(x: float) -> float:\n",
    "    return 5 * x * x + 2 * x + 2\n",
    "\n",
    "def diff(func: Callable[[float], float]) -> Callable[[float], float]:\n",
    "    return lambda x: func(Dual(x, 1.0)).d\n",
    "\n",
    "f_diff = diff(f)\n",
    "\n",
    "# значение производной в точке x = 2\n",
    "f_diff(2)"
   ]
  },
  {
   "cell_type": "markdown",
   "metadata": {},
   "source": [
    "## Задание 1.1 (5 баллов)\n",
    "\n",
    "Какие недостатки вы видите в данной реализации? Реализуйте поддержку (полностью самостоятельно или модифицируя приведенный код):\n",
    "- [унарных операций](https://docs.python.org/3/reference/datamodel.html#object.__neg__) \n",
    "- деления\n",
    "- возведения в степень\n",
    "\n",
    "Каким образом можно проверить корректность решения?  Реализуйте достаточный, по вашему мнению, набор тестов."
   ]
  },
  {
   "cell_type": "markdown",
   "source": [
    "## Тестирование\n",
    "\n",
    "Для того, чтобы протестировать дуальные числа я решил воспользоваться их связью с диффериенцированием и проверить корректность арифметических операций для различных функций, охватывающих все добавленные операции. (см MyDualTests.py)"
   ],
   "metadata": {
    "collapsed": false
   }
  },
  {
   "cell_type": "code",
   "execution_count": 4,
   "metadata": {
    "ExecuteTime": {
     "start_time": "2023-11-07T16:05:56.972214Z",
     "end_time": "2023-11-07T16:05:57.390823Z"
    }
   },
   "outputs": [
    {
     "name": "stderr",
     "output_type": "stream",
     "text": [
      "........\n",
      "----------------------------------------------------------------------\n",
      "Ran 8 tests in 0.003s\n",
      "\n",
      "OK\n"
     ]
    },
    {
     "data": {
      "text/plain": "<unittest.runner.TextTestResult run=8 errors=0 failures=0>"
     },
     "execution_count": 4,
     "metadata": {},
     "output_type": "execute_result"
    }
   ],
   "source": [
    "import unittest\n",
    "import MyDualTests\n",
    "\n",
    "unittest.TextTestRunner().run(unittest.makeSuite(MyDualTests.FirstTestCase))"
   ]
  },
  {
   "cell_type": "markdown",
   "metadata": {},
   "source": [
    "## Задание 1.2 (7 баллов)\n",
    "Придумайте способ и реализуйте поддержку функций:\n",
    "- `exp()`\n",
    "- `cos()`\n",
    "- `sin()`\n",
    "- `log()`\n",
    "\n",
    "Добавьте соответствующие тесты"
   ]
  },
  {
   "cell_type": "code",
   "execution_count": 5,
   "metadata": {
    "ExecuteTime": {
     "start_time": "2023-11-07T16:06:00.090717Z",
     "end_time": "2023-11-07T16:06:00.134568Z"
    }
   },
   "outputs": [
    {
     "name": "stderr",
     "output_type": "stream",
     "text": [
      "....\n",
      "----------------------------------------------------------------------\n",
      "Ran 4 tests in 0.002s\n",
      "\n",
      "OK\n"
     ]
    },
    {
     "data": {
      "text/plain": "<unittest.runner.TextTestResult run=4 errors=0 failures=0>"
     },
     "execution_count": 5,
     "metadata": {},
     "output_type": "execute_result"
    }
   ],
   "source": [
    "import unittest\n",
    "import MyDualTests\n",
    "\n",
    "unittest.TextTestRunner().run(unittest.makeSuite(MyDualTests.SecondTestCase))"
   ]
  },
  {
   "cell_type": "markdown",
   "metadata": {},
   "source": [
    "## Задание 1.3 (3 балла)\n",
    "\n",
    "Воспользуйтесь методами **численного** дифференцирования для \"проверки\" работы кода на нескольких примерах. Например,  библиотеке `scipy` есть функция `derivative`. Или реализуйте какой-нибудь метод численного дифференцирования самостоятельно (**+5 баллов**)"
   ]
  },
  {
   "cell_type": "code",
   "execution_count": 7,
   "metadata": {
    "ExecuteTime": {
     "start_time": "2023-11-07T16:06:24.364856Z",
     "end_time": "2023-11-07T16:06:24.407873Z"
    }
   },
   "outputs": [
    {
     "name": "stderr",
     "output_type": "stream",
     "text": [
      "/tmp/ipykernel_81973/2315536219.py:8: DeprecationWarning: scipy.misc.derivative is deprecated in SciPy v1.10.0; and will be completely removed in SciPy v1.12.0. You may consider using findiff: https://github.com/maroba/findiff or numdifftools: https://github.com/pbrod/numdifftools\n",
      "  derivative(f, 2.)\n"
     ]
    },
    {
     "data": {
      "text/plain": "22.0"
     },
     "execution_count": 7,
     "metadata": {},
     "output_type": "execute_result"
    }
   ],
   "source": [
    "from scipy.misc import derivative\n",
    "\n",
    "def f(x: float) -> float:\n",
    "    return 5 * x * x + 2 * x + 2\n",
    "\n",
    "def f1(x: float) -> float:\n",
    "    return math.sin(3*x) + 2*x**3 - (x*2 + 1)**0.5 + math.log(x + 1)\n",
    "derivative(f, 2.)"
   ]
  },
  {
   "cell_type": "code",
   "execution_count": 8,
   "metadata": {
    "ExecuteTime": {
     "start_time": "2023-11-07T16:06:25.687333Z",
     "end_time": "2023-11-07T16:06:25.772209Z"
    }
   },
   "outputs": [
    {
     "name": "stderr",
     "output_type": "stream",
     "text": [
      "....\n",
      "----------------------------------------------------------------------\n",
      "Ran 4 tests in 0.002s\n",
      "\n",
      "OK\n"
     ]
    },
    {
     "data": {
      "text/plain": "<unittest.runner.TextTestResult run=4 errors=0 failures=0>"
     },
     "execution_count": 8,
     "metadata": {},
     "output_type": "execute_result"
    }
   ],
   "source": [
    "import unittest\n",
    "import MyDualTests\n",
    "\n",
    "unittest.TextTestRunner().run(unittest.makeSuite(MyDualTests.NumericalDifferentiationTestCase))"
   ]
  },
  {
   "cell_type": "markdown",
   "metadata": {},
   "source": [
    "## Задание 1.4 (10 баллов)\n",
    "\n",
    "Необходимо разработать систему автоматического тестирования алгоритма дифференцирования в следующем виде:\n",
    "- реализовать механизм генерации \"случайных функций\" (например, что-то вроде такого: $f(x) = x + 5 * x - \\cos(20 * \\log(12 - 20 * x * x )) - 20 * x$ )\n",
    "- сгенерировать достаточно большое число функций и сравнить результаты символьного и численного дифференцирования в случайных точках "
   ]
  },
  {
   "cell_type": "markdown",
   "metadata": {},
   "source": [
    " Генерацию случайных функций можно осуществить, например, двумя путями.\n",
    "1. Генерировать функцию в текстовом виде, зачем использовать встроенную функцию [eval](https://docs.python.org/3/library/functions.html#eval)\n",
    "\n",
    "```python\n",
    "func = eval(\"lambda x: 2 * x + 5\")\n",
    "assert func(42) == 89 \n",
    "```\n",
    "\n",
    "2. Использовать стандартный модуль [ast](https://docs.python.org/3/library/ast.html), который позволяет во время выполнения программы манипулировать [Абстрактным Синтаксическим Деревом](https://ru.wikipedia.org/wiki/%D0%90%D0%B1%D1%81%D1%82%D1%80%D0%B0%D0%BA%D1%82%D0%BD%D0%BE%D0%B5_%D1%81%D0%B8%D0%BD%D1%82%D0%B0%D0%BA%D1%81%D0%B8%D1%87%D0%B5%D1%81%D0%BA%D0%BE%D0%B5_%D0%B4%D0%B5%D1%80%D0%B5%D0%B2%D0%BE).\n",
    "Например, выражение \n",
    "\n",
    "```python\n",
    "func = lambda x: 2 * x + 5\n",
    "```\n",
    "\n",
    "Можно запрограммировать с помощью кода:\n",
    "\n",
    "```python\n",
    "\n",
    "expr = ast.Expression(\n",
    "    body=ast.Lambda(\n",
    "        args=ast.arguments(\n",
    "            args=[\n",
    "                ast.arg(arg='x')\n",
    "            ],\n",
    "            posonlyargs=[],\n",
    "            kwonlyargs=[],\n",
    "            kw_defaults=[],\n",
    "            defaults=[]\n",
    "        ),\n",
    "        body=ast.BinOp(\n",
    "            left=ast.BinOp(\n",
    "                left=ast.Constant(value=2),\n",
    "                op=ast.Mult(),\n",
    "                right=ast.Name(id='x', ctx=ast.Load())\n",
    "            ),\n",
    "            op=ast.Add(),\n",
    "            right=ast.Constant(value=5)\n",
    "        )\n",
    "    )\n",
    ")\n",
    "\n",
    "ast.fix_missing_locations(expr)\n",
    "\n",
    "func = eval(compile(expr, filename=\"\", mode=\"eval\"))\n",
    "\n",
    "assert func(42) == 89\n",
    "```\n",
    "\n",
    "При реализации нужно учитывать области допустимых значений функций."
   ]
  },
  {
   "cell_type": "code",
   "execution_count": 1,
   "outputs": [
    {
     "name": "stderr",
     "output_type": "stream",
     "text": [
      "..........................F..................................................................................................................................................................................................................................................................................................................................................................................................................................................................................................................................................................................................................................................................................................................................................................................................................................................E...........................................................................................................................................................................................................................................................................................................................................s\n",
      "======================================================================\n",
      "ERROR: test_with_pre_generated_functions_701__6_6_x_log_1_x_log_x_ (RandomFunctionsTests.RandomGeneratorTestCase)\n",
      "----------------------------------------------------------------------\n",
      "Traceback (most recent call last):\n",
      "  File \"/home/valentine/dev/python-2022/venv/lib/python3.8/site-packages/numpy/testing/_private/parameterized.py\", line 414, in standalone_func\n",
      "    return func(*(a + p.args), **p.kwargs)\n",
      "  File \"/home/valentine/dev/python-2022/tasks/Task 1/RandomFunctionsTests.py\", line 106, in test_with_pre_generated_functions\n",
      "    dual_result = func(Dual(val, 1))\n",
      "  File \"<string>\", line 1, in <lambda>\n",
      "  File \"/home/valentine/dev/python-2022/tasks/Task 1/RandomFunctionsTests.py\", line 43, in log\n",
      "    return MyDual.log(val);\n",
      "  File \"/home/valentine/dev/python-2022/tasks/Task 1/MyDual.py\", line 20, in log\n",
      "    return Dual(math.log(val.value), val.d / val.value)\n",
      "ValueError: math domain error\n",
      "\n",
      "======================================================================\n",
      "FAIL: test_with_pre_generated_functions_1023__2_4_x_3_x (RandomFunctionsTests.RandomGeneratorTestCase)\n",
      "----------------------------------------------------------------------\n",
      "Traceback (most recent call last):\n",
      "  File \"/home/valentine/dev/python-2022/venv/lib/python3.8/site-packages/numpy/testing/_private/parameterized.py\", line 414, in standalone_func\n",
      "    return func(*(a + p.args), **p.kwargs)\n",
      "  File \"/home/valentine/dev/python-2022/tasks/Task 1/RandomFunctionsTests.py\", line 107, in test_with_pre_generated_functions\n",
      "    self.assertAlmostEqual(dual_result.d, df.evalf(subs={x: val}), delta=abs(dual_result.d * 0.01))\n",
      "AssertionError: -4.33680868994202e-19 != 0 within 4.33680868994202e-21 delta (4.33680868994202e-19 difference)\n",
      "\n",
      "----------------------------------------------------------------------\n",
      "Ran 1178 tests in 98.270s\n",
      "\n",
      "FAILED (failures=1, errors=1, skipped=1)\n"
     ]
    },
    {
     "data": {
      "text/plain": "<unittest.runner.TextTestResult run=1178 errors=1 failures=1>"
     },
     "execution_count": 1,
     "metadata": {},
     "output_type": "execute_result"
    }
   ],
   "source": [
    "import unittest\n",
    "import RandomFunctionsTests\n",
    "\n",
    "unittest.TextTestRunner().run(unittest.makeSuite(RandomFunctionsTests.RandomGeneratorTestCase))"
   ],
   "metadata": {
    "collapsed": false,
    "ExecuteTime": {
     "start_time": "2023-11-07T18:39:40.746552Z",
     "end_time": "2023-11-07T18:41:19.297415Z"
    }
   }
  },
  {
   "cell_type": "code",
   "execution_count": 2,
   "outputs": [
    {
     "name": "stdout",
     "output_type": "stream",
     "text": [
      "sin(x)+cos(sin(sin(log(-4*x))-8))-1-cos(x)/sin(-8*x**1-2*x**2-4)\n",
      "cos(log(x))*-3*x+1*x*10*x*sin(x)-x/-6\n",
      "-5*x-sin(-3*x**1+5*x**2-3)+9-x/-7\n",
      "log(sin(x))-3*x*log(-4*x**1+9)+cos(-7*x**1-9)\n",
      "cos(6*x**1+7*x**2+7)+log(sin(-9))+log(-9*x**1+1)+5*x*sin(10*x)\n",
      "cos(x)/-1+cos(sin(-9*x))+x*5*8\n",
      "3-6*x*-8*x-5/-8\n",
      "log(-2*x**1-5)/x-7*x*x*-2\n",
      "cos(cos(-3+4+2+7))-2*x*5*x/-5-5*x*x-1/-1\n",
      "4-log(log(-3-10*x+sin(x)))*cos(sin(sin(-4*x)+5*x*x))+8*x*log(9*x**1-2)\n",
      "\n",
      "The inequality, log(-10*x + sin(x) - 3) > 0, cannot be solved using\n",
      "solve_univariate_inequality.\n",
      "7*x*x-sin(7*x**1-10)-8*x*10*x*log(-2*x)\n",
      "x/-4/2*x*cos(-8*x**1+2*x**2-1)*cos(-5*x**1-5*x**2+9)-5*x\n",
      "cos(-4*x**1-9)*sin(5*x**1+7)-7*x*7-3\n",
      "-2-3*x-2-10+6*x*7*x\n",
      "-10*x/sin(sin(8-4*x*x+9+1))/cos(-9*x**1-4)/8-2*x*x-9\n",
      "-7-cos(sin(9*x))*sin(1*x)-log(6*x)\n",
      "log(8*x**1-3)*cos(x)-log(-7*x**1-10*x**2-1)-log(log(sin(10*x)-9+x))\n",
      "\n",
      "The inequality, x + sin(10*x) - 9 > 0, cannot be solved using\n",
      "solve_univariate_inequality.\n",
      "x-5+log(cos(x))-9-4-log(cos(-2*x*6*x+7+x+5))\n",
      "\n",
      "The inequality, cos(-12*x**2 + x + 12) > 0, cannot be solved using\n",
      "solve_univariate_inequality.\n",
      "sin(-1*x**1-1)*9*x*-6*x*3+log(-4*x**1+5*x**2-2)-3+sin(-4*x**1+7*x**2-10)\n",
      "-6-1*x*log(x)/9\n"
     ]
    }
   ],
   "source": [
    "import RandomFunctionsGenerator\n",
    "\n",
    "RandomFunctionsGenerator.generate_and_dump_to_files(20, \"random_functions_dump_test.dat\")"
   ],
   "metadata": {
    "collapsed": false,
    "ExecuteTime": {
     "start_time": "2023-11-07T18:41:43.278269Z",
     "end_time": "2023-11-07T18:41:44.637445Z"
    }
   }
  },
  {
   "cell_type": "markdown",
   "metadata": {},
   "source": [
    "## Задание 1.5 (7 баллов)\n",
    "\n",
    "Реализуйте поддержку функций нескольких аргументов. Например\n",
    "\n",
    "```python\n",
    "def f(x: float, y: float, z: float) -> float:\n",
    "    return x * y + z - 5 * y  \n",
    "\n",
    "\n",
    "f_diff = diff(f)\n",
    "\n",
    "f_diff(10, 10, 10) # = [10, 5, 1]\n",
    "```"
   ]
  },
  {
   "cell_type": "code",
   "execution_count": 3,
   "metadata": {
    "ExecuteTime": {
     "start_time": "2023-11-07T18:41:52.488630Z",
     "end_time": "2023-11-07T18:41:52.531831Z"
    }
   },
   "outputs": [
    {
     "name": "stdout",
     "output_type": "stream",
     "text": [
      "[10.0, 5.0, 1]\n",
      "[10.0, 5.0, 1, 2.0]\n",
      "[12.0, 100.0]\n"
     ]
    }
   ],
   "source": [
    "from typing import Callable\n",
    "from math import log\n",
    "from MyDual import Dual\n",
    "\n",
    "def f(x: float, y: float, z: float) -> float:\n",
    "    return x * y + z - 5 * y\n",
    "\n",
    "def f2(x: float, y: float, z: float, k: float) -> float:\n",
    "    return x * y + z - 5 * y + k**2/10\n",
    "\n",
    "def f0(x: float, z: float) -> float:\n",
    "    return x**3 + 10**z/log(10)\n",
    "\n",
    "def multiple_argument_diff(func: Callable[..., float]) -> Callable[..., float]:\n",
    "    return lambda *args: [ func(*tuple(list(args[:index]) + [Dual(args[index],1)] + list(args[index+1:]))).d for index in range(len(args))]\n",
    "print(multiple_argument_diff(f)(10, 10, 10))\n",
    "print(multiple_argument_diff(f2)(10, 10, 10, 10))\n",
    "print(multiple_argument_diff(f0)(2, 2))\n"
   ]
  }
 ],
 "metadata": {
  "kernelspec": {
   "display_name": "Python 3.10.4 64-bit",
   "language": "python",
   "name": "python3"
  },
  "language_info": {
   "codemirror_mode": {
    "name": "ipython",
    "version": 3
   },
   "file_extension": ".py",
   "mimetype": "text/x-python",
   "name": "python",
   "nbconvert_exporter": "python",
   "pygments_lexer": "ipython3",
   "version": "3.10.6"
  },
  "orig_nbformat": 4,
  "vscode": {
   "interpreter": {
    "hash": "916dbcbb3f70747c44a77c7bcd40155683ae19c65e1c03b4aa3499c5328201f1"
   }
  }
 },
 "nbformat": 4,
 "nbformat_minor": 2
}
